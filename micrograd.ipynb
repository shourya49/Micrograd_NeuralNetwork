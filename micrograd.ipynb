{
 "cells": [
  {
   "cell_type": "code",
   "execution_count": 1,
   "id": "0e9734a0-3674-4e92-b8ac-422d288f0810",
   "metadata": {},
   "outputs": [],
   "source": [
    "import math\n",
    "import numpy as np\n",
    "import matplotlib.pyplot as plt\n",
    "%matplotlib inline"
   ]
  },
  {
   "cell_type": "code",
   "execution_count": 2,
   "id": "4cbae2f3-1d48-44e8-bf29-4160bc36a69d",
   "metadata": {},
   "outputs": [],
   "source": [
    "def f(x) :\n",
    "    return 3*x**2 - 4*x + 5"
   ]
  },
  {
   "cell_type": "code",
   "execution_count": 3,
   "id": "5d64d3de-1ea0-4e3b-bd2e-4630c858bf36",
   "metadata": {},
   "outputs": [
    {
     "data": {
      "text/plain": [
       "20"
      ]
     },
     "execution_count": 3,
     "metadata": {},
     "output_type": "execute_result"
    }
   ],
   "source": [
    "f(3)"
   ]
  },
  {
   "cell_type": "code",
   "execution_count": 4,
   "id": "f89e40c4-df0e-48ad-a80f-bb143314efc7",
   "metadata": {},
   "outputs": [],
   "source": [
    "xs = np.arange(-5, 5, 0.25)"
   ]
  },
  {
   "cell_type": "code",
   "execution_count": 5,
   "id": "66d7b897-5173-4cb4-a166-7820ccf27942",
   "metadata": {},
   "outputs": [
    {
     "data": {
      "text/plain": [
       "array([-5.  , -4.75, -4.5 , -4.25, -4.  , -3.75, -3.5 , -3.25, -3.  ,\n",
       "       -2.75, -2.5 , -2.25, -2.  , -1.75, -1.5 , -1.25, -1.  , -0.75,\n",
       "       -0.5 , -0.25,  0.  ,  0.25,  0.5 ,  0.75,  1.  ,  1.25,  1.5 ,\n",
       "        1.75,  2.  ,  2.25,  2.5 ,  2.75,  3.  ,  3.25,  3.5 ,  3.75,\n",
       "        4.  ,  4.25,  4.5 ,  4.75])"
      ]
     },
     "execution_count": 5,
     "metadata": {},
     "output_type": "execute_result"
    }
   ],
   "source": [
    "xs"
   ]
  },
  {
   "cell_type": "code",
   "execution_count": 6,
   "id": "889928cd-ec53-4d04-994c-e36f541f5061",
   "metadata": {},
   "outputs": [
    {
     "data": {
      "text/plain": [
       "array([100.    ,  91.6875,  83.75  ,  76.1875,  69.    ,  62.1875,\n",
       "        55.75  ,  49.6875,  44.    ,  38.6875,  33.75  ,  29.1875,\n",
       "        25.    ,  21.1875,  17.75  ,  14.6875,  12.    ,   9.6875,\n",
       "         7.75  ,   6.1875,   5.    ,   4.1875,   3.75  ,   3.6875,\n",
       "         4.    ,   4.6875,   5.75  ,   7.1875,   9.    ,  11.1875,\n",
       "        13.75  ,  16.6875,  20.    ,  23.6875,  27.75  ,  32.1875,\n",
       "        37.    ,  42.1875,  47.75  ,  53.6875])"
      ]
     },
     "execution_count": 6,
     "metadata": {},
     "output_type": "execute_result"
    }
   ],
   "source": [
    "ys = f(xs) # applying the function the on numpy array\n",
    "ys"
   ]
  },
  {
   "cell_type": "code",
   "execution_count": 7,
   "id": "3e806756-196f-4f4d-b3bb-70fe426087d3",
   "metadata": {},
   "outputs": [
    {
     "data": {
      "image/png": "[encoded data removed]",
      "text/plain": [
       "<Figure size 640x480 with 1 Axes>"
      ]
     },
     "metadata": {},
     "output_type": "display_data"
    }
   ],
   "source": [
    "plt.plot(xs,ys)\n",
    "plt.show()"
   ]
  },
  {
   "cell_type": "code",
   "execution_count": 8,
   "id": "440ae438-e6a1-478c-8948-f29450ba7065",
   "metadata": {},
   "outputs": [
    {
     "data": {
      "text/plain": [
       "0.0"
      ]
     },
     "execution_count": 8,
     "metadata": {},
     "output_type": "execute_result"
    }
   ],
   "source": [
    "h = 0.0000000001\n",
    "x = 2/3\n",
    "(f(x + h)-f(x))/h # definition of slope limit definition"
   ]
  },
  {
   "cell_type": "code",
   "execution_count": 9,
   "id": "0321b38a-71c4-44dc-8c24-3874d3886800",
   "metadata": {},
   "outputs": [
    {
     "name": "stdout",
     "output_type": "stream",
     "text": [
      "4\n"
     ]
    }
   ],
   "source": [
    "a = 2\n",
    "b = -3\n",
    "c = 10\n",
    "\n",
    "d = a*b + c\n",
    "print(d)"
   ]
  },
  {
   "cell_type": "code",
   "execution_count": 10,
   "id": "235bb66d-4cef-4431-b62c-1c849b5a647c",
   "metadata": {},
   "outputs": [
    {
     "name": "stdout",
     "output_type": "stream",
     "text": [
      "4 , 3.999699999999999\n",
      "slope: -3.000000000010772\n"
     ]
    }
   ],
   "source": [
    "h = 0.0001\n",
    "\n",
    "# inputs (3-D)\n",
    "a = 2\n",
    "b = -3\n",
    "c = 10\n",
    "\n",
    "d1 = a*b + c\n",
    "a+= h\n",
    "\n",
    "d2 = a*b +c \n",
    "print(d1,',',d2)\n",
    "print('slope:',(d2 -d1)/h) # derivative with respect to a \n"
   ]
  },
  {
   "cell_type": "code",
   "execution_count": 11,
   "id": "9aaa5c32-fec0-4682-af32-9375452f06c4",
   "metadata": {},
   "outputs": [],
   "source": [
    "class Value:\n",
    "\n",
    "    def __init__(self,data, _children = (), _op = ''): #basically children is use to store the two Value objects on which we perform operation\n",
    "        self.data = data\n",
    "        self._prev = set(_children)\n",
    "        self._op = _op\n",
    "\n",
    "    def __repr__(self):\n",
    "        return (f\"Value(data={self.data})\")\n",
    "\n",
    "    def __add__(self, other):\n",
    "        out = Value(self.data + other.data, (self, other), '+') # creating a value object\n",
    "        return out\n",
    "\n",
    "    def __mul__(self, other):\n",
    "        out = Value(self.data * other.data, (self,other), '*')\n",
    "        return out\n"
   ]
  },
  {
   "cell_type": "code",
   "execution_count": 12,
   "id": "bf38489e-b69a-46c7-a454-4b6a9dd29f73",
   "metadata": {},
   "outputs": [
    {
     "data": {
      "text/plain": [
       "Value(data=2)"
      ]
     },
     "execution_count": 12,
     "metadata": {},
     "output_type": "execute_result"
    }
   ],
   "source": [
    "a = Value(2)\n",
    "a"
   ]
  },
  {
   "cell_type": "code",
   "execution_count": 13,
   "id": "3c81f868-bf28-4dbe-885e-62376cc21761",
   "metadata": {},
   "outputs": [
    {
     "data": {
      "text/plain": [
       "Value(data=-3)"
      ]
     },
     "execution_count": 13,
     "metadata": {},
     "output_type": "execute_result"
    }
   ],
   "source": [
    "b = Value(-3)\n",
    "b"
   ]
  },
  {
   "cell_type": "code",
   "execution_count": 14,
   "id": "89d60185-9320-4bf1-943a-213c673a5842",
   "metadata": {},
   "outputs": [
    {
     "data": {
      "text/plain": [
       "Value(data=-1)"
      ]
     },
     "execution_count": 14,
     "metadata": {},
     "output_type": "execute_result"
    }
   ],
   "source": [
    "a + b # here python internally calls a.__add__(b)"
   ]
  },
  {
   "cell_type": "code",
   "execution_count": 15,
   "id": "aae1cc26-1310-44c5-b1c9-42ce7c6ede30",
   "metadata": {},
   "outputs": [
    {
     "data": {
      "text/plain": [
       "Value(data=-6)"
      ]
     },
     "execution_count": 15,
     "metadata": {},
     "output_type": "execute_result"
    }
   ],
   "source": [
    "a * b"
   ]
  },
  {
   "cell_type": "code",
   "execution_count": 16,
   "id": "7ac860e9-46d1-4c18-a32e-f5fba5f410f6",
   "metadata": {},
   "outputs": [
    {
     "name": "stdout",
     "output_type": "stream",
     "text": [
      "{Value(data=3), Value(data=5)}\n",
      "+\n"
     ]
    }
   ],
   "source": [
    "a = Value(3)\n",
    "b = Value(5)\n",
    "c = a + b  # Creates a new Value(8) and stores (a, b) in _children\n",
    "\n",
    "print(c._prev)  # Output: {Value(data=3), Value(data=5)}\n",
    "print(c._op)"
   ]
  },
  {
   "cell_type": "code",
   "execution_count": 17,
   "id": "a74535a6-6081-4604-82aa-fba44b9e6a52",
   "metadata": {},
   "outputs": [
    {
     "data": {
      "text/plain": [
       "Value(data=4)"
      ]
     },
     "execution_count": 17,
     "metadata": {},
     "output_type": "execute_result"
    }
   ],
   "source": [
    "a = Value(2)\n",
    "b = Value(-3)\n",
    "c = Value(10)\n",
    "d = a*b + c # create a value object d \n",
    "d"
   ]
  },
  {
   "cell_type": "code",
   "execution_count": 18,
   "id": "4114a669-8d74-4a32-9d96-93825fdee732",
   "metadata": {},
   "outputs": [
    {
     "data": {
      "text/plain": [
       "{Value(data=-6), Value(data=10)}"
      ]
     },
     "execution_count": 18,
     "metadata": {},
     "output_type": "execute_result"
    }
   ],
   "source": [
    "d._prev"
   ]
  },
  {
   "cell_type": "code",
   "execution_count": 19,
   "id": "5cf263f7-6cad-4a96-b712-e519cf5aa9f1",
   "metadata": {},
   "outputs": [
    {
     "data": {
      "text/plain": [
       "'+'"
      ]
     },
     "execution_count": 19,
     "metadata": {},
     "output_type": "execute_result"
    }
   ],
   "source": [
    "d._op"
   ]
  },
  {
   "cell_type": "code",
   "execution_count": 20,
   "id": "b3ba71d1-267a-4f53-bef6-704a1ff0c583",
   "metadata": {},
   "outputs": [
    {
     "name": "stdout",
     "output_type": "stream",
     "text": [
      "Defaulting to user installation because normal site-packages is not writeable\n",
      "Requirement already satisfied: graphviz in c:\\users\\shour\\appdata\\roaming\\python\\python312\\site-packages (0.20.3)\n",
      "Note: you may need to restart the kernel to use updated packages.\n"
     ]
    },
    {
     "name": "stderr",
     "output_type": "stream",
     "text": [
      "\n",
      "[notice] A new release of pip is available: 25.0 -> 25.0.1\n",
      "[notice] To update, run: python.exe -m pip install --upgrade pip\n"
     ]
    }
   ],
   "source": [
    "pip install graphviz"
   ]
  },
  {
   "cell_type": "code",
   "execution_count": 21,
   "id": "ad261c91-ff02-473f-b237-a34563b5790a",
   "metadata": {},
   "outputs": [
    {
     "data": {
      "text/plain": [
       "Value(data=4)"
      ]
     },
     "execution_count": 21,
     "metadata": {},
     "output_type": "execute_result"
    }
   ],
   "source": [
    "a = Value(2)\n",
    "b = Value(-3)\n",
    "c = Value(10)\n",
    "d = a*b + c # create a value object d \n",
    "d"
   ]
  },
  {
   "cell_type": "code",
   "execution_count": 22,
   "id": "3e0e8882-4a81-4449-b541-2ecfd5b3c468",
   "metadata": {},
   "outputs": [],
   "source": [
    "from graphviz import Digraph\n",
    "\n",
    "def trace(root):\n",
    "    # nodes :A set to store unique Value objects #edges: A set to store relationships (parent → child) between Value objects.\n",
    "    nodes, edges = set(), set() \n",
    "    def build(v):\n",
    "        if v not in nodes:\n",
    "            nodes.add(v)\n",
    "            for child in v._prev:\n",
    "                edges.add((child,v))\n",
    "                build(child)\n",
    "    build(root)\n",
    "    return nodes, edges\n",
    "\n",
    "def draw_dot(root):\n",
    "    dot = Digraph(format = 'svg' , graph_attr = {'rankdir' : 'LR'})\n",
    "\n",
    "    nodes, edges = trace(root)\n",
    "    for n in nodes:\n",
    "        uid = str(id(n))\n",
    "\n",
    "        dot.node(name = uid, label = '{ data  %.4f }' % (n.data), shape = 'record')\n",
    "        if n._op :\n",
    "            dot.node(name = uid + n._op, label = n._op)\n",
    "            dot.edge(uid + n._op , uid)\n",
    "\n",
    "    for n1,n2 in edges:\n",
    "        dot.edge(str(id(n1)), str(id(n2)) + n2._op)\n",
    "    return dot"
   ]
  },
  {
   "cell_type": "code",
   "execution_count": 23,
   "id": "89266009-1eb9-4481-9d43-91e1cbd16980",
   "metadata": {},
   "outputs": [
    {
     "data": {
      "image/svg+xml": [
       "<?xml version=\"1.0\" encoding=\"UTF-8\" standalone=\"no\"?>\n",
       "<!DOCTYPE svg PUBLIC \"-//W3C//DTD SVG 1.1//EN\"\n",
       " \"http://www.w3.org/Graphics/SVG/1.1/DTD/svg11.dtd\">\n",
       "<!-- Generated by graphviz version 12.2.1 (20241206.2353)\n",
       " -->\n",
       "<!-- Pages: 1 -->\n",
       "<svg width=\"511pt\" height=\"128pt\"\n",
       " viewBox=\"0.00 0.00 510.50 128.00\" xmlns=\"http://www.w3.org/2000/svg\" xmlns:xlink=\"http://www.w3.org/1999/xlink\">\n",
       "<g id=\"graph0\" class=\"graph\" transform=\"scale(1 1) rotate(0) translate(4 124)\">\n",
       "<polygon fill=\"white\" stroke=\"none\" points=\"-4,4 -4,-124 506.5,-124 506.5,4 -4,4\"/>\n",
       "<!-- 2205048340160 -->\n",
       "<g id=\"node1\" class=\"node\">\n",
       "<title>2205048340160</title>\n",
       "<polygon fill=\"none\" stroke=\"black\" points=\"0,-83.5 0,-119.5 84.25,-119.5 84.25,-83.5 0,-83.5\"/>\n",
       "<text text-anchor=\"middle\" x=\"42.12\" y=\"-96.7\" font-family=\"Times New Roman,serif\" font-size=\"14.00\">data &#45;3.0000</text>\n",
       "</g>\n",
       "<!-- 2205047575840* -->\n",
       "<g id=\"node3\" class=\"node\">\n",
       "<title>2205047575840*</title>\n",
       "<ellipse fill=\"none\" stroke=\"black\" cx=\"147.25\" cy=\"-73.5\" rx=\"27\" ry=\"18\"/>\n",
       "<text text-anchor=\"middle\" x=\"147.25\" y=\"-68.45\" font-family=\"Times New Roman,serif\" font-size=\"14.00\">*</text>\n",
       "</g>\n",
       "<!-- 2205048340160&#45;&gt;2205047575840* -->\n",
       "<g id=\"edge6\" class=\"edge\">\n",
       "<title>2205048340160&#45;&gt;2205047575840*</title>\n",
       "<path fill=\"none\" stroke=\"black\" d=\"M84.48,-90.27C93.18,-87.91 102.29,-85.43 110.76,-83.14\"/>\n",
       "<polygon fill=\"black\" stroke=\"black\" points=\"111.62,-86.53 120.35,-80.53 109.78,-79.77 111.62,-86.53\"/>\n",
       "</g>\n",
       "<!-- 2205047575840 -->\n",
       "<g id=\"node2\" class=\"node\">\n",
       "<title>2205047575840</title>\n",
       "<polygon fill=\"none\" stroke=\"black\" points=\"211.38,-55.5 211.38,-91.5 295.62,-91.5 295.62,-55.5 211.38,-55.5\"/>\n",
       "<text text-anchor=\"middle\" x=\"253.5\" y=\"-68.7\" font-family=\"Times New Roman,serif\" font-size=\"14.00\">data &#45;6.0000</text>\n",
       "</g>\n",
       "<!-- 2204507380560+ -->\n",
       "<g id=\"node6\" class=\"node\">\n",
       "<title>2204507380560+</title>\n",
       "<ellipse fill=\"none\" stroke=\"black\" cx=\"359.75\" cy=\"-45.5\" rx=\"27\" ry=\"18\"/>\n",
       "<text text-anchor=\"middle\" x=\"359.75\" y=\"-40.45\" font-family=\"Times New Roman,serif\" font-size=\"14.00\">+</text>\n",
       "</g>\n",
       "<!-- 2205047575840&#45;&gt;2204507380560+ -->\n",
       "<g id=\"edge4\" class=\"edge\">\n",
       "<title>2205047575840&#45;&gt;2204507380560+</title>\n",
       "<path fill=\"none\" stroke=\"black\" d=\"M296,-62.35C305,-59.94 314.45,-57.4 323.19,-55.05\"/>\n",
       "<polygon fill=\"black\" stroke=\"black\" points=\"323.99,-58.46 332.74,-52.49 322.17,-51.7 323.99,-58.46\"/>\n",
       "</g>\n",
       "<!-- 2205047575840*&#45;&gt;2205047575840 -->\n",
       "<g id=\"edge1\" class=\"edge\">\n",
       "<title>2205047575840*&#45;&gt;2205047575840</title>\n",
       "<path fill=\"none\" stroke=\"black\" d=\"M174.56,-73.5C182.27,-73.5 191,-73.5 199.75,-73.5\"/>\n",
       "<polygon fill=\"black\" stroke=\"black\" points=\"199.67,-77 209.67,-73.5 199.67,-70 199.67,-77\"/>\n",
       "</g>\n",
       "<!-- 2205047572288 -->\n",
       "<g id=\"node4\" class=\"node\">\n",
       "<title>2205047572288</title>\n",
       "<polygon fill=\"none\" stroke=\"black\" points=\"210.25,-0.5 210.25,-36.5 296.75,-36.5 296.75,-0.5 210.25,-0.5\"/>\n",
       "<text text-anchor=\"middle\" x=\"253.5\" y=\"-13.7\" font-family=\"Times New Roman,serif\" font-size=\"14.00\">data 10.0000</text>\n",
       "</g>\n",
       "<!-- 2205047572288&#45;&gt;2204507380560+ -->\n",
       "<g id=\"edge5\" class=\"edge\">\n",
       "<title>2205047572288&#45;&gt;2204507380560+</title>\n",
       "<path fill=\"none\" stroke=\"black\" d=\"M297.2,-29.56C305.86,-31.8 314.88,-34.14 323.26,-36.31\"/>\n",
       "<polygon fill=\"black\" stroke=\"black\" points=\"322.17,-39.64 332.73,-38.76 323.92,-32.86 322.17,-39.64\"/>\n",
       "</g>\n",
       "<!-- 2204507380560 -->\n",
       "<g id=\"node5\" class=\"node\">\n",
       "<title>2204507380560</title>\n",
       "<polygon fill=\"none\" stroke=\"black\" points=\"422.75,-27.5 422.75,-63.5 502.5,-63.5 502.5,-27.5 422.75,-27.5\"/>\n",
       "<text text-anchor=\"middle\" x=\"462.62\" y=\"-40.7\" font-family=\"Times New Roman,serif\" font-size=\"14.00\">data 4.0000</text>\n",
       "</g>\n",
       "<!-- 2204507380560+&#45;&gt;2204507380560 -->\n",
       "<g id=\"edge2\" class=\"edge\">\n",
       "<title>2204507380560+&#45;&gt;2204507380560</title>\n",
       "<path fill=\"none\" stroke=\"black\" d=\"M386.99,-45.5C394.46,-45.5 402.85,-45.5 411.24,-45.5\"/>\n",
       "<polygon fill=\"black\" stroke=\"black\" points=\"411.08,-49 421.08,-45.5 411.08,-42 411.08,-49\"/>\n",
       "</g>\n",
       "<!-- 2205048191456 -->\n",
       "<g id=\"node7\" class=\"node\">\n",
       "<title>2205048191456</title>\n",
       "<polygon fill=\"none\" stroke=\"black\" points=\"2.25,-28.5 2.25,-64.5 82,-64.5 82,-28.5 2.25,-28.5\"/>\n",
       "<text text-anchor=\"middle\" x=\"42.12\" y=\"-41.7\" font-family=\"Times New Roman,serif\" font-size=\"14.00\">data 2.0000</text>\n",
       "</g>\n",
       "<!-- 2205048191456&#45;&gt;2205047575840* -->\n",
       "<g id=\"edge3\" class=\"edge\">\n",
       "<title>2205048191456&#45;&gt;2205047575840*</title>\n",
       "<path fill=\"none\" stroke=\"black\" d=\"M82.41,-56.78C91.69,-59.22 101.54,-61.79 110.65,-64.18\"/>\n",
       "<polygon fill=\"black\" stroke=\"black\" points=\"109.68,-67.54 120.24,-66.69 111.45,-60.77 109.68,-67.54\"/>\n",
       "</g>\n",
       "</g>\n",
       "</svg>\n"
      ],
      "text/plain": [
       "<graphviz.graphs.Digraph at 0x201671d2c30>"
      ]
     },
     "execution_count": 23,
     "metadata": {},
     "output_type": "execute_result"
    }
   ],
   "source": [
    "draw_dot(d)"
   ]
  },
  {
   "cell_type": "code",
   "execution_count": null,
   "id": "076f35bd-b376-4d67-82cd-711c43f24790",
   "metadata": {},
   "outputs": [],
   "source": []
  },
  {
   "cell_type": "code",
   "execution_count": 24,
   "id": "139ccae2-b6e3-4d43-80bc-602b6040230f",
   "metadata": {},
   "outputs": [],
   "source": [
    "class Value:\n",
    "\n",
    "    def __init__(self,data, _children = (), _op = '', label = ''): #basically children is use to store the two Value objects on which we perform operation\n",
    "        self.data = data\n",
    "        self._prev = set(_children)\n",
    "        self._op = _op\n",
    "        self.label = label\n",
    "        self.grad = 0\n",
    "\n",
    "    def __repr__(self):\n",
    "        return (f\"Value(data={self.data})\")\n",
    "\n",
    "    def __add__(self, other):\n",
    "        out = Value(self.data + other.data, (self, other), '+') # creating a value object\n",
    "        return out\n",
    "\n",
    "    def __mul__(self, other):\n",
    "        out = Value(self.data * other.data, (self,other), '*')\n",
    "        return out\n",
    "\n",
    "    def tanh(self) :\n",
    "        n = self.data \n",
    "        t = (math.exp(2*n) - 1)/(math.exp(2*n ) + 1)\n",
    "        out = Value(t , (self,) , 'tanh',label = 'tan h')\n",
    "        return out\n",
    "\n",
    "    \n"
   ]
  },
  {
   "cell_type": "code",
   "execution_count": 25,
   "id": "0dee85f6-c9de-4452-9897-e9a0bd65566a",
   "metadata": {},
   "outputs": [
    {
     "data": {
      "text/plain": [
       "Value(data=-8)"
      ]
     },
     "execution_count": 25,
     "metadata": {},
     "output_type": "execute_result"
    }
   ],
   "source": [
    "a = Value(2 , label = 'a')\n",
    "b = Value(-3, label ='b')\n",
    "c = Value(10, label = 'c')\n",
    "e = a*b ; e.label = 'e'\n",
    "d = e + c; d.label = 'd' # create a value object d \n",
    "f = Value(-2); f.label = 'f'\n",
    "L = d * f; L.label = 'L'; L.grad = 1\n",
    "\n",
    "L"
   ]
  },
  {
   "cell_type": "code",
   "execution_count": null,
   "id": "a160c726-73aa-4f66-bfdd-80bfc66850b9",
   "metadata": {},
   "outputs": [],
   "source": []
  },
  {
   "cell_type": "code",
   "execution_count": 26,
   "id": "f475b0b3-7183-4a0e-a210-693dcf0bbb00",
   "metadata": {},
   "outputs": [],
   "source": [
    "from graphviz import Digraph\n",
    "\n",
    "def trace(root):\n",
    "    # nodes :A set to store unique Value objects #edges: A set to store relationships (parent → child) between Value objects.\n",
    "    nodes, edges = set(), set() \n",
    "    def build(v):\n",
    "        if v not in nodes:\n",
    "            nodes.add(v)\n",
    "            for child in v._prev:\n",
    "                edges.add((child,v))\n",
    "                build(child)\n",
    "    build(root)\n",
    "    return nodes, edges\n",
    "\n",
    "def draw_dot(root):\n",
    "    dot = Digraph(format = 'svg' , graph_attr = {'rankdir' : 'LR'})\n",
    "\n",
    "    nodes, edges = trace(root)\n",
    "    for n in nodes:\n",
    "        uid = str(id(n))\n",
    "\n",
    "        dot.node(name = uid, label = '{%s | data  %.4f | grad %.4f }' % (n.label , n.data, n.grad), shape = 'record')\n",
    "        if n._op :\n",
    "            dot.node(name = uid + n._op, label = n._op)\n",
    "            dot.edge(uid + n._op , uid)\n",
    "\n",
    "    for n1,n2 in edges:\n",
    "        dot.edge(str(id(n1)), str(id(n2)) + n2._op)\n",
    "    return dot"
   ]
  },
  {
   "cell_type": "code",
   "execution_count": 27,
   "id": "86761da4-4e7c-461a-824f-142bfb1c8a2e",
   "metadata": {},
   "outputs": [
    {
     "data": {
      "image/svg+xml": [
       "<?xml version=\"1.0\" encoding=\"UTF-8\" standalone=\"no\"?>\n",
       "<!DOCTYPE svg PUBLIC \"-//W3C//DTD SVG 1.1//EN\"\n",
       " \"http://www.w3.org/Graphics/SVG/1.1/DTD/svg11.dtd\">\n",
       "<!-- Generated by graphviz version 12.2.1 (20241206.2353)\n",
       " -->\n",
       "<!-- Pages: 1 -->\n",
       "<svg width=\"1140pt\" height=\"128pt\"\n",
       " viewBox=\"0.00 0.00 1139.75 128.00\" xmlns=\"http://www.w3.org/2000/svg\" xmlns:xlink=\"http://www.w3.org/1999/xlink\">\n",
       "<g id=\"graph0\" class=\"graph\" transform=\"scale(1 1) rotate(0) translate(4 124)\">\n",
       "<polygon fill=\"white\" stroke=\"none\" points=\"-4,4 -4,-124 1135.75,-124 1135.75,4 -4,4\"/>\n",
       "<!-- 2205048920624 -->\n",
       "<g id=\"node1\" class=\"node\">\n",
       "<title>2205048920624</title>\n",
       "<polygon fill=\"none\" stroke=\"black\" points=\"314.25,-83.5 314.25,-119.5 504,-119.5 504,-83.5 314.25,-83.5\"/>\n",
       "<text text-anchor=\"middle\" x=\"325.25\" y=\"-96.7\" font-family=\"Times New Roman,serif\" font-size=\"14.00\">c</text>\n",
       "<polyline fill=\"none\" stroke=\"black\" points=\"336.25,-84 336.25,-119.5\"/>\n",
       "<text text-anchor=\"middle\" x=\"379.5\" y=\"-96.7\" font-family=\"Times New Roman,serif\" font-size=\"14.00\">data 10.0000</text>\n",
       "<polyline fill=\"none\" stroke=\"black\" points=\"422.75,-84 422.75,-119.5\"/>\n",
       "<text text-anchor=\"middle\" x=\"463.38\" y=\"-96.7\" font-family=\"Times New Roman,serif\" font-size=\"14.00\">grad 0.0000</text>\n",
       "</g>\n",
       "<!-- 2205048920768+ -->\n",
       "<g id=\"node5\" class=\"node\">\n",
       "<title>2205048920768+</title>\n",
       "<ellipse fill=\"none\" stroke=\"black\" cx=\"567\" cy=\"-73.5\" rx=\"27\" ry=\"18\"/>\n",
       "<text text-anchor=\"middle\" x=\"567\" y=\"-68.45\" font-family=\"Times New Roman,serif\" font-size=\"14.00\">+</text>\n",
       "</g>\n",
       "<!-- 2205048920624&#45;&gt;2205048920768+ -->\n",
       "<g id=\"edge8\" class=\"edge\">\n",
       "<title>2205048920624&#45;&gt;2205048920768+</title>\n",
       "<path fill=\"none\" stroke=\"black\" d=\"M504.39,-84.57C513.16,-82.99 521.65,-81.47 529.37,-80.08\"/>\n",
       "<polygon fill=\"black\" stroke=\"black\" points=\"529.73,-83.57 538.95,-78.36 528.49,-76.68 529.73,-83.57\"/>\n",
       "</g>\n",
       "<!-- 2205048920672 -->\n",
       "<g id=\"node2\" class=\"node\">\n",
       "<title>2205048920672</title>\n",
       "<polygon fill=\"none\" stroke=\"black\" points=\"315.38,-28.5 315.38,-64.5 502.88,-64.5 502.88,-28.5 315.38,-28.5\"/>\n",
       "<text text-anchor=\"middle\" x=\"326.38\" y=\"-41.7\" font-family=\"Times New Roman,serif\" font-size=\"14.00\">e</text>\n",
       "<polyline fill=\"none\" stroke=\"black\" points=\"337.38,-29 337.38,-64.5\"/>\n",
       "<text text-anchor=\"middle\" x=\"379.5\" y=\"-41.7\" font-family=\"Times New Roman,serif\" font-size=\"14.00\">data &#45;6.0000</text>\n",
       "<polyline fill=\"none\" stroke=\"black\" points=\"421.62,-29 421.62,-64.5\"/>\n",
       "<text text-anchor=\"middle\" x=\"462.25\" y=\"-41.7\" font-family=\"Times New Roman,serif\" font-size=\"14.00\">grad 0.0000</text>\n",
       "</g>\n",
       "<!-- 2205048920672&#45;&gt;2205048920768+ -->\n",
       "<g id=\"edge6\" class=\"edge\">\n",
       "<title>2205048920672&#45;&gt;2205048920768+</title>\n",
       "<path fill=\"none\" stroke=\"black\" d=\"M503.05,-62.6C512.25,-64.19 521.16,-65.73 529.24,-67.13\"/>\n",
       "<polygon fill=\"black\" stroke=\"black\" points=\"528.48,-70.55 538.93,-68.81 529.68,-63.66 528.48,-70.55\"/>\n",
       "</g>\n",
       "<!-- 2205048920672* -->\n",
       "<g id=\"node3\" class=\"node\">\n",
       "<title>2205048920672*</title>\n",
       "<ellipse fill=\"none\" stroke=\"black\" cx=\"251.25\" cy=\"-46.5\" rx=\"27\" ry=\"18\"/>\n",
       "<text text-anchor=\"middle\" x=\"251.25\" y=\"-41.45\" font-family=\"Times New Roman,serif\" font-size=\"14.00\">*</text>\n",
       "</g>\n",
       "<!-- 2205048920672*&#45;&gt;2205048920672 -->\n",
       "<g id=\"edge1\" class=\"edge\">\n",
       "<title>2205048920672*&#45;&gt;2205048920672</title>\n",
       "<path fill=\"none\" stroke=\"black\" d=\"M278.69,-46.5C286.1,-46.5 294.64,-46.5 303.71,-46.5\"/>\n",
       "<polygon fill=\"black\" stroke=\"black\" points=\"303.51,-50 313.51,-46.5 303.51,-43 303.51,-50\"/>\n",
       "</g>\n",
       "<!-- 2205048920768 -->\n",
       "<g id=\"node4\" class=\"node\">\n",
       "<title>2205048920768</title>\n",
       "<polygon fill=\"none\" stroke=\"black\" points=\"631.12,-55.5 631.12,-91.5 814.88,-91.5 814.88,-55.5 631.12,-55.5\"/>\n",
       "<text text-anchor=\"middle\" x=\"642.5\" y=\"-68.7\" font-family=\"Times New Roman,serif\" font-size=\"14.00\">d</text>\n",
       "<polyline fill=\"none\" stroke=\"black\" points=\"653.88,-56 653.88,-91.5\"/>\n",
       "<text text-anchor=\"middle\" x=\"693.75\" y=\"-68.7\" font-family=\"Times New Roman,serif\" font-size=\"14.00\">data 4.0000</text>\n",
       "<polyline fill=\"none\" stroke=\"black\" points=\"733.62,-56 733.62,-91.5\"/>\n",
       "<text text-anchor=\"middle\" x=\"774.25\" y=\"-68.7\" font-family=\"Times New Roman,serif\" font-size=\"14.00\">grad 0.0000</text>\n",
       "</g>\n",
       "<!-- 2205047368944* -->\n",
       "<g id=\"node8\" class=\"node\">\n",
       "<title>2205047368944*</title>\n",
       "<ellipse fill=\"none\" stroke=\"black\" cx=\"879\" cy=\"-45.5\" rx=\"27\" ry=\"18\"/>\n",
       "<text text-anchor=\"middle\" x=\"879\" y=\"-40.45\" font-family=\"Times New Roman,serif\" font-size=\"14.00\">*</text>\n",
       "</g>\n",
       "<!-- 2205048920768&#45;&gt;2205047368944* -->\n",
       "<g id=\"edge5\" class=\"edge\">\n",
       "<title>2205048920768&#45;&gt;2205047368944*</title>\n",
       "<path fill=\"none\" stroke=\"black\" d=\"M815.36,-56.89C824.5,-55.23 833.36,-53.62 841.4,-52.15\"/>\n",
       "<polygon fill=\"black\" stroke=\"black\" points=\"841.83,-55.63 851.04,-50.4 840.57,-48.75 841.83,-55.63\"/>\n",
       "</g>\n",
       "<!-- 2205048920768+&#45;&gt;2205048920768 -->\n",
       "<g id=\"edge2\" class=\"edge\">\n",
       "<title>2205048920768+&#45;&gt;2205048920768</title>\n",
       "<path fill=\"none\" stroke=\"black\" d=\"M594.47,-73.5C601.87,-73.5 610.38,-73.5 619.43,-73.5\"/>\n",
       "<polygon fill=\"black\" stroke=\"black\" points=\"619.17,-77 629.17,-73.5 619.17,-70 619.17,-77\"/>\n",
       "</g>\n",
       "<!-- 2205048920288 -->\n",
       "<g id=\"node6\" class=\"node\">\n",
       "<title>2205048920288</title>\n",
       "<polygon fill=\"none\" stroke=\"black\" points=\"0,-56.5 0,-92.5 188.25,-92.5 188.25,-56.5 0,-56.5\"/>\n",
       "<text text-anchor=\"middle\" x=\"11.38\" y=\"-69.7\" font-family=\"Times New Roman,serif\" font-size=\"14.00\">b</text>\n",
       "<polyline fill=\"none\" stroke=\"black\" points=\"22.75,-57 22.75,-92.5\"/>\n",
       "<text text-anchor=\"middle\" x=\"64.88\" y=\"-69.7\" font-family=\"Times New Roman,serif\" font-size=\"14.00\">data &#45;3.0000</text>\n",
       "<polyline fill=\"none\" stroke=\"black\" points=\"107,-57 107,-92.5\"/>\n",
       "<text text-anchor=\"middle\" x=\"147.62\" y=\"-69.7\" font-family=\"Times New Roman,serif\" font-size=\"14.00\">grad 0.0000</text>\n",
       "</g>\n",
       "<!-- 2205048920288&#45;&gt;2205048920672* -->\n",
       "<g id=\"edge7\" class=\"edge\">\n",
       "<title>2205048920288&#45;&gt;2205048920672*</title>\n",
       "<path fill=\"none\" stroke=\"black\" d=\"M188.49,-57.65C197.36,-56.05 205.93,-54.5 213.73,-53.09\"/>\n",
       "<polygon fill=\"black\" stroke=\"black\" points=\"214.2,-56.56 223.42,-51.34 212.95,-49.68 214.2,-56.56\"/>\n",
       "</g>\n",
       "<!-- 2205047368944 -->\n",
       "<g id=\"node7\" class=\"node\">\n",
       "<title>2205047368944</title>\n",
       "<polygon fill=\"none\" stroke=\"black\" points=\"942,-27.5 942,-63.5 1131.75,-63.5 1131.75,-27.5 942,-27.5\"/>\n",
       "<text text-anchor=\"middle\" x=\"954.12\" y=\"-40.7\" font-family=\"Times New Roman,serif\" font-size=\"14.00\">L</text>\n",
       "<polyline fill=\"none\" stroke=\"black\" points=\"966.25,-28 966.25,-63.5\"/>\n",
       "<text text-anchor=\"middle\" x=\"1008.38\" y=\"-40.7\" font-family=\"Times New Roman,serif\" font-size=\"14.00\">data &#45;8.0000</text>\n",
       "<polyline fill=\"none\" stroke=\"black\" points=\"1050.5,-28 1050.5,-63.5\"/>\n",
       "<text text-anchor=\"middle\" x=\"1091.12\" y=\"-40.7\" font-family=\"Times New Roman,serif\" font-size=\"14.00\">grad 1.0000</text>\n",
       "</g>\n",
       "<!-- 2205047368944*&#45;&gt;2205047368944 -->\n",
       "<g id=\"edge3\" class=\"edge\">\n",
       "<title>2205047368944*&#45;&gt;2205047368944</title>\n",
       "<path fill=\"none\" stroke=\"black\" d=\"M906.44,-45.5C913.59,-45.5 921.78,-45.5 930.49,-45.5\"/>\n",
       "<polygon fill=\"black\" stroke=\"black\" points=\"930.26,-49 940.26,-45.5 930.26,-42 930.26,-49\"/>\n",
       "</g>\n",
       "<!-- 2205048920816 -->\n",
       "<g id=\"node9\" class=\"node\">\n",
       "<title>2205048920816</title>\n",
       "<polygon fill=\"none\" stroke=\"black\" points=\"630,-0.5 630,-36.5 816,-36.5 816,-0.5 630,-0.5\"/>\n",
       "<text text-anchor=\"middle\" x=\"640.25\" y=\"-13.7\" font-family=\"Times New Roman,serif\" font-size=\"14.00\">f</text>\n",
       "<polyline fill=\"none\" stroke=\"black\" points=\"650.5,-1 650.5,-36.5\"/>\n",
       "<text text-anchor=\"middle\" x=\"692.62\" y=\"-13.7\" font-family=\"Times New Roman,serif\" font-size=\"14.00\">data &#45;2.0000</text>\n",
       "<polyline fill=\"none\" stroke=\"black\" points=\"734.75,-1 734.75,-36.5\"/>\n",
       "<text text-anchor=\"middle\" x=\"775.38\" y=\"-13.7\" font-family=\"Times New Roman,serif\" font-size=\"14.00\">grad 0.0000</text>\n",
       "</g>\n",
       "<!-- 2205048920816&#45;&gt;2205047368944* -->\n",
       "<g id=\"edge9\" class=\"edge\">\n",
       "<title>2205048920816&#45;&gt;2205047368944*</title>\n",
       "<path fill=\"none\" stroke=\"black\" d=\"M816.25,-34.67C825.01,-36.21 833.5,-37.7 841.24,-39.05\"/>\n",
       "<polygon fill=\"black\" stroke=\"black\" points=\"840.39,-42.46 850.84,-40.74 841.6,-35.56 840.39,-42.46\"/>\n",
       "</g>\n",
       "<!-- 2205048918320 -->\n",
       "<g id=\"node10\" class=\"node\">\n",
       "<title>2205048918320</title>\n",
       "<polygon fill=\"none\" stroke=\"black\" points=\"2.62,-1.5 2.62,-37.5 185.62,-37.5 185.62,-1.5 2.62,-1.5\"/>\n",
       "<text text-anchor=\"middle\" x=\"13.62\" y=\"-14.7\" font-family=\"Times New Roman,serif\" font-size=\"14.00\">a</text>\n",
       "<polyline fill=\"none\" stroke=\"black\" points=\"24.62,-2 24.62,-37.5\"/>\n",
       "<text text-anchor=\"middle\" x=\"64.5\" y=\"-14.7\" font-family=\"Times New Roman,serif\" font-size=\"14.00\">data 2.0000</text>\n",
       "<polyline fill=\"none\" stroke=\"black\" points=\"104.38,-2 104.38,-37.5\"/>\n",
       "<text text-anchor=\"middle\" x=\"145\" y=\"-14.7\" font-family=\"Times New Roman,serif\" font-size=\"14.00\">grad 0.0000</text>\n",
       "</g>\n",
       "<!-- 2205048918320&#45;&gt;2205048920672* -->\n",
       "<g id=\"edge4\" class=\"edge\">\n",
       "<title>2205048918320&#45;&gt;2205048920672*</title>\n",
       "<path fill=\"none\" stroke=\"black\" d=\"M185.81,-35.28C195.45,-36.96 204.82,-38.59 213.29,-40.07\"/>\n",
       "<polygon fill=\"black\" stroke=\"black\" points=\"212.65,-43.51 223.1,-41.77 213.85,-36.61 212.65,-43.51\"/>\n",
       "</g>\n",
       "</g>\n",
       "</svg>\n"
      ],
      "text/plain": [
       "<graphviz.graphs.Digraph at 0x2016710b770>"
      ]
     },
     "execution_count": 27,
     "metadata": {},
     "output_type": "execute_result"
    }
   ],
   "source": [
    "draw_dot(L)"
   ]
  },
  {
   "cell_type": "code",
   "execution_count": 28,
   "id": "442886e1-9743-43af-8b69-b44fc98958fd",
   "metadata": {},
   "outputs": [
    {
     "name": "stdout",
     "output_type": "stream",
     "text": [
      "6.000000000000227\n"
     ]
    }
   ],
   "source": [
    "def lol():\n",
    "    h = 0.001\n",
    "    a = Value(2 , label = 'a')\n",
    "    b = Value(-3, label ='b')\n",
    "    c = Value(10, label = 'c')\n",
    "    e = a*b ; e.label = 'e'\n",
    "    d = e + c; d.label = 'd' # create a value object d \n",
    "    f = Value(-2); f.label = 'f'\n",
    "    L = d * f; L.label = 'L'\n",
    "    L1 = L.data\n",
    "    \n",
    "    a = Value(2 + h , label = 'a')\n",
    "    b = Value(-3, label ='b')\n",
    "    c = Value(10, label = 'c')\n",
    "    e = a*b ; e.label = 'e'\n",
    "    d = e + c; d.label = 'd' # create a value object d \n",
    "    f = Value(-2); f.label = 'f'\n",
    "    L = d * f; L.label = 'L'\n",
    "    L2 = L.data\n",
    "\n",
    "    print((L2 -L1)/h)\n",
    "\n",
    "lol()\n",
    "    \n",
    "        "
   ]
  },
  {
   "cell_type": "code",
   "execution_count": 29,
   "id": "752a3c7b-c082-456f-8508-f7c9d04069db",
   "metadata": {},
   "outputs": [],
   "source": [
    "# inputs x1 , x2\n",
    "x1 = Value(2, label = 'x1')\n",
    "x2 = Value(0, label = 'x2')\n",
    "# weights of input\n",
    "w1 = Value(-3, label = 'w1')\n",
    "w2 = Value(6.7, label = 'w2')\n",
    "# bias of neuron\n",
    "b = Value(6.8813735870195432, label = 'b')\n",
    "x1w1 = x1 * w1; x1w1.label = 'x1w1'\n",
    "x2w2 = x2 * w2; x2w2.label = 'x2w2'\n",
    "x1w1x2w2 = x1w1 + x2w2 ; x1w1x2w2.label = 'x1w1 + x2w2'\n",
    "\n",
    "n = x1w1x2w2 + b; n.label = 'n'\n",
    "o = n.tanh(); o.label = 'o'\n"
   ]
  },
  {
   "cell_type": "markdown",
   "id": "ec2e69bd-573e-4310-bf76-255cd89ac5af",
   "metadata": {},
   "source": [
    "## BACKPROPOGATION"
   ]
  },
  {
   "cell_type": "code",
   "execution_count": 30,
   "id": "99137b2a-175d-43e3-8b16-2c9dd742e362",
   "metadata": {},
   "outputs": [],
   "source": [
    "o.grad = 1 # as derivative of o w..r.t o is 1 \n",
    "n.grad = 1 - o.data**2 # do/dn\n",
    "x1w1x2w2.grad = n.grad #(do/d(x1w1x2w2) = do/dn * dn/d(x1w1+ x2w2))\n",
    "b.grad = n.grad\n",
    "x1w1.grad = x1w1x2w2.grad\n",
    "x2w2.grad = x1w1x2w2.grad\n",
    "w1.grad = x1.data * x1w1.grad\n",
    "x1.grad = w1.data * x1w1.grad\n",
    "w2.grad = x2.data * x2w2.grad\n",
    "x2.grad = w2.data * x2w2.grad\n",
    "\n"
   ]
  },
  {
   "cell_type": "code",
   "execution_count": 31,
   "id": "4bb1d367-fa31-483d-a32b-6f7160387956",
   "metadata": {},
   "outputs": [
    {
     "data": {
      "image/svg+xml": [
       "<?xml version=\"1.0\" encoding=\"UTF-8\" standalone=\"no\"?>\n",
       "<!DOCTYPE svg PUBLIC \"-//W3C//DTD SVG 1.1//EN\"\n",
       " \"http://www.w3.org/Graphics/SVG/1.1/DTD/svg11.dtd\">\n",
       "<!-- Generated by graphviz version 12.2.1 (20241206.2353)\n",
       " -->\n",
       "<!-- Pages: 1 -->\n",
       "<svg width=\"1546pt\" height=\"210pt\"\n",
       " viewBox=\"0.00 0.00 1546.25 210.00\" xmlns=\"http://www.w3.org/2000/svg\" xmlns:xlink=\"http://www.w3.org/1999/xlink\">\n",
       "<g id=\"graph0\" class=\"graph\" transform=\"scale(1 1) rotate(0) translate(4 206)\">\n",
       "<polygon fill=\"white\" stroke=\"none\" points=\"-4,4 -4,-206 1542.25,-206 1542.25,4 -4,4\"/>\n",
       "<!-- 2205047577136 -->\n",
       "<g id=\"node1\" class=\"node\">\n",
       "<title>2205047577136</title>\n",
       "<polygon fill=\"none\" stroke=\"black\" points=\"3.75,-165.5 3.75,-201.5 194.25,-201.5 194.25,-165.5 3.75,-165.5\"/>\n",
       "<text text-anchor=\"middle\" x=\"18.5\" y=\"-178.7\" font-family=\"Times New Roman,serif\" font-size=\"14.00\">x2</text>\n",
       "<polyline fill=\"none\" stroke=\"black\" points=\"33.25,-166 33.25,-201.5\"/>\n",
       "<text text-anchor=\"middle\" x=\"73.12\" y=\"-178.7\" font-family=\"Times New Roman,serif\" font-size=\"14.00\">data 0.0000</text>\n",
       "<polyline fill=\"none\" stroke=\"black\" points=\"113,-166 113,-201.5\"/>\n",
       "<text text-anchor=\"middle\" x=\"153.62\" y=\"-178.7\" font-family=\"Times New Roman,serif\" font-size=\"14.00\">grad 3.3500</text>\n",
       "</g>\n",
       "<!-- 2205048926000* -->\n",
       "<g id=\"node7\" class=\"node\">\n",
       "<title>2205048926000*</title>\n",
       "<ellipse fill=\"none\" stroke=\"black\" cx=\"261\" cy=\"-128.5\" rx=\"27\" ry=\"18\"/>\n",
       "<text text-anchor=\"middle\" x=\"261\" y=\"-123.45\" font-family=\"Times New Roman,serif\" font-size=\"14.00\">*</text>\n",
       "</g>\n",
       "<!-- 2205047577136&#45;&gt;2205048926000* -->\n",
       "<g id=\"edge6\" class=\"edge\">\n",
       "<title>2205047577136&#45;&gt;2205048926000*</title>\n",
       "<path fill=\"none\" stroke=\"black\" d=\"M172.12,-165.01C180.9,-162.35 189.7,-159.5 198,-156.5 208.09,-152.86 218.82,-148.27 228.47,-143.88\"/>\n",
       "<polygon fill=\"black\" stroke=\"black\" points=\"229.86,-147.09 237.45,-139.69 226.9,-140.75 229.86,-147.09\"/>\n",
       "</g>\n",
       "<!-- 2205048181328 -->\n",
       "<g id=\"node2\" class=\"node\">\n",
       "<title>2205048181328</title>\n",
       "<polygon fill=\"none\" stroke=\"black\" points=\"1.5,-55.5 1.5,-91.5 196.5,-91.5 196.5,-55.5 1.5,-55.5\"/>\n",
       "<text text-anchor=\"middle\" x=\"16.25\" y=\"-68.7\" font-family=\"Times New Roman,serif\" font-size=\"14.00\">x1</text>\n",
       "<polyline fill=\"none\" stroke=\"black\" points=\"31,-56 31,-91.5\"/>\n",
       "<text text-anchor=\"middle\" x=\"70.88\" y=\"-68.7\" font-family=\"Times New Roman,serif\" font-size=\"14.00\">data 2.0000</text>\n",
       "<polyline fill=\"none\" stroke=\"black\" points=\"110.75,-56 110.75,-91.5\"/>\n",
       "<text text-anchor=\"middle\" x=\"153.62\" y=\"-68.7\" font-family=\"Times New Roman,serif\" font-size=\"14.00\">grad &#45;1.5000</text>\n",
       "</g>\n",
       "<!-- 2205048923264* -->\n",
       "<g id=\"node4\" class=\"node\">\n",
       "<title>2205048923264*</title>\n",
       "<ellipse fill=\"none\" stroke=\"black\" cx=\"261\" cy=\"-73.5\" rx=\"27\" ry=\"18\"/>\n",
       "<text text-anchor=\"middle\" x=\"261\" y=\"-68.45\" font-family=\"Times New Roman,serif\" font-size=\"14.00\">*</text>\n",
       "</g>\n",
       "<!-- 2205048181328&#45;&gt;2205048923264* -->\n",
       "<g id=\"edge7\" class=\"edge\">\n",
       "<title>2205048181328&#45;&gt;2205048923264*</title>\n",
       "<path fill=\"none\" stroke=\"black\" d=\"M196.76,-73.5C205.77,-73.5 214.47,-73.5 222.4,-73.5\"/>\n",
       "<polygon fill=\"black\" stroke=\"black\" points=\"222.25,-77 232.25,-73.5 222.25,-70 222.25,-77\"/>\n",
       "</g>\n",
       "<!-- 2205048923264 -->\n",
       "<g id=\"node3\" class=\"node\">\n",
       "<title>2205048923264</title>\n",
       "<polygon fill=\"none\" stroke=\"black\" points=\"324,-55.5 324,-91.5 535.5,-91.5 535.5,-55.5 324,-55.5\"/>\n",
       "<text text-anchor=\"middle\" x=\"347\" y=\"-68.7\" font-family=\"Times New Roman,serif\" font-size=\"14.00\">x1w1</text>\n",
       "<polyline fill=\"none\" stroke=\"black\" points=\"370,-56 370,-91.5\"/>\n",
       "<text text-anchor=\"middle\" x=\"412.12\" y=\"-68.7\" font-family=\"Times New Roman,serif\" font-size=\"14.00\">data &#45;6.0000</text>\n",
       "<polyline fill=\"none\" stroke=\"black\" points=\"454.25,-56 454.25,-91.5\"/>\n",
       "<text text-anchor=\"middle\" x=\"494.88\" y=\"-68.7\" font-family=\"Times New Roman,serif\" font-size=\"14.00\">grad 0.5000</text>\n",
       "</g>\n",
       "<!-- 2205048926144+ -->\n",
       "<g id=\"node13\" class=\"node\">\n",
       "<title>2205048926144+</title>\n",
       "<ellipse fill=\"none\" stroke=\"black\" cx=\"598.5\" cy=\"-100.5\" rx=\"27\" ry=\"18\"/>\n",
       "<text text-anchor=\"middle\" x=\"598.5\" y=\"-95.45\" font-family=\"Times New Roman,serif\" font-size=\"14.00\">+</text>\n",
       "</g>\n",
       "<!-- 2205048923264&#45;&gt;2205048926144+ -->\n",
       "<g id=\"edge12\" class=\"edge\">\n",
       "<title>2205048923264&#45;&gt;2205048926144+</title>\n",
       "<path fill=\"none\" stroke=\"black\" d=\"M535.88,-90.52C544.59,-91.93 552.96,-93.29 560.56,-94.52\"/>\n",
       "<polygon fill=\"black\" stroke=\"black\" points=\"559.91,-97.96 570.34,-96.1 561.03,-91.05 559.91,-97.96\"/>\n",
       "</g>\n",
       "<!-- 2205048923264*&#45;&gt;2205048923264 -->\n",
       "<g id=\"edge1\" class=\"edge\">\n",
       "<title>2205048923264*&#45;&gt;2205048923264</title>\n",
       "<path fill=\"none\" stroke=\"black\" d=\"M288.42,-73.5C295.52,-73.5 303.68,-73.5 312.42,-73.5\"/>\n",
       "<polygon fill=\"black\" stroke=\"black\" points=\"312.24,-77 322.24,-73.5 312.24,-70 312.24,-77\"/>\n",
       "</g>\n",
       "<!-- 2205048922928 -->\n",
       "<g id=\"node5\" class=\"node\">\n",
       "<title>2205048922928</title>\n",
       "<polygon fill=\"none\" stroke=\"black\" points=\"0,-0.5 0,-36.5 198,-36.5 198,-0.5 0,-0.5\"/>\n",
       "<text text-anchor=\"middle\" x=\"16.25\" y=\"-13.7\" font-family=\"Times New Roman,serif\" font-size=\"14.00\">w1</text>\n",
       "<polyline fill=\"none\" stroke=\"black\" points=\"32.5,-1 32.5,-36.5\"/>\n",
       "<text text-anchor=\"middle\" x=\"74.62\" y=\"-13.7\" font-family=\"Times New Roman,serif\" font-size=\"14.00\">data &#45;3.0000</text>\n",
       "<polyline fill=\"none\" stroke=\"black\" points=\"116.75,-1 116.75,-36.5\"/>\n",
       "<text text-anchor=\"middle\" x=\"157.38\" y=\"-13.7\" font-family=\"Times New Roman,serif\" font-size=\"14.00\">grad 1.0000</text>\n",
       "</g>\n",
       "<!-- 2205048922928&#45;&gt;2205048923264* -->\n",
       "<g id=\"edge13\" class=\"edge\">\n",
       "<title>2205048922928&#45;&gt;2205048923264*</title>\n",
       "<path fill=\"none\" stroke=\"black\" d=\"M172.12,-36.99C180.9,-39.65 189.7,-42.5 198,-45.5 208.09,-49.14 218.82,-53.73 228.47,-58.12\"/>\n",
       "<polygon fill=\"black\" stroke=\"black\" points=\"226.9,-61.25 237.45,-62.31 229.86,-54.91 226.9,-61.25\"/>\n",
       "</g>\n",
       "<!-- 2205048926000 -->\n",
       "<g id=\"node6\" class=\"node\">\n",
       "<title>2205048926000</title>\n",
       "<polygon fill=\"none\" stroke=\"black\" points=\"326.25,-110.5 326.25,-146.5 533.25,-146.5 533.25,-110.5 326.25,-110.5\"/>\n",
       "<text text-anchor=\"middle\" x=\"349.25\" y=\"-123.7\" font-family=\"Times New Roman,serif\" font-size=\"14.00\">x2w2</text>\n",
       "<polyline fill=\"none\" stroke=\"black\" points=\"372.25,-111 372.25,-146.5\"/>\n",
       "<text text-anchor=\"middle\" x=\"412.12\" y=\"-123.7\" font-family=\"Times New Roman,serif\" font-size=\"14.00\">data 0.0000</text>\n",
       "<polyline fill=\"none\" stroke=\"black\" points=\"452,-111 452,-146.5\"/>\n",
       "<text text-anchor=\"middle\" x=\"492.62\" y=\"-123.7\" font-family=\"Times New Roman,serif\" font-size=\"14.00\">grad 0.5000</text>\n",
       "</g>\n",
       "<!-- 2205048926000&#45;&gt;2205048926144+ -->\n",
       "<g id=\"edge8\" class=\"edge\">\n",
       "<title>2205048926000&#45;&gt;2205048926144+</title>\n",
       "<path fill=\"none\" stroke=\"black\" d=\"M533.51,-111.25C543.16,-109.62 552.45,-108.06 560.82,-106.66\"/>\n",
       "<polygon fill=\"black\" stroke=\"black\" points=\"561.2,-110.15 570.48,-105.04 560.04,-103.24 561.2,-110.15\"/>\n",
       "</g>\n",
       "<!-- 2205048926000*&#45;&gt;2205048926000 -->\n",
       "<g id=\"edge2\" class=\"edge\">\n",
       "<title>2205048926000*&#45;&gt;2205048926000</title>\n",
       "<path fill=\"none\" stroke=\"black\" d=\"M288.42,-128.5C296.08,-128.5 304.96,-128.5 314.47,-128.5\"/>\n",
       "<polygon fill=\"black\" stroke=\"black\" points=\"314.37,-132 324.37,-128.5 314.37,-125 314.37,-132\"/>\n",
       "</g>\n",
       "<!-- 2205048926048 -->\n",
       "<g id=\"node8\" class=\"node\">\n",
       "<title>2205048926048</title>\n",
       "<polygon fill=\"none\" stroke=\"black\" points=\"1044.75,-54.5 1044.75,-90.5 1228.5,-90.5 1228.5,-54.5 1044.75,-54.5\"/>\n",
       "<text text-anchor=\"middle\" x=\"1056.12\" y=\"-67.7\" font-family=\"Times New Roman,serif\" font-size=\"14.00\">n</text>\n",
       "<polyline fill=\"none\" stroke=\"black\" points=\"1067.5,-55 1067.5,-90.5\"/>\n",
       "<text text-anchor=\"middle\" x=\"1107.38\" y=\"-67.7\" font-family=\"Times New Roman,serif\" font-size=\"14.00\">data 0.8814</text>\n",
       "<polyline fill=\"none\" stroke=\"black\" points=\"1147.25,-55 1147.25,-90.5\"/>\n",
       "<text text-anchor=\"middle\" x=\"1187.88\" y=\"-67.7\" font-family=\"Times New Roman,serif\" font-size=\"14.00\">grad 0.5000</text>\n",
       "</g>\n",
       "<!-- 2205048926096tanh -->\n",
       "<g id=\"node11\" class=\"node\">\n",
       "<title>2205048926096tanh</title>\n",
       "<ellipse fill=\"none\" stroke=\"black\" cx=\"1291.5\" cy=\"-72.5\" rx=\"27\" ry=\"18\"/>\n",
       "<text text-anchor=\"middle\" x=\"1291.5\" y=\"-67.45\" font-family=\"Times New Roman,serif\" font-size=\"14.00\">tanh</text>\n",
       "</g>\n",
       "<!-- 2205048926048&#45;&gt;2205048926096tanh -->\n",
       "<g id=\"edge14\" class=\"edge\">\n",
       "<title>2205048926048&#45;&gt;2205048926096tanh</title>\n",
       "<path fill=\"none\" stroke=\"black\" d=\"M1228.76,-72.5C1237.14,-72.5 1245.27,-72.5 1252.73,-72.5\"/>\n",
       "<polygon fill=\"black\" stroke=\"black\" points=\"1252.7,-76 1262.7,-72.5 1252.7,-69 1252.7,-76\"/>\n",
       "</g>\n",
       "<!-- 2205048926048+ -->\n",
       "<g id=\"node9\" class=\"node\">\n",
       "<title>2205048926048+</title>\n",
       "<ellipse fill=\"none\" stroke=\"black\" cx=\"981.75\" cy=\"-72.5\" rx=\"27\" ry=\"18\"/>\n",
       "<text text-anchor=\"middle\" x=\"981.75\" y=\"-67.45\" font-family=\"Times New Roman,serif\" font-size=\"14.00\">+</text>\n",
       "</g>\n",
       "<!-- 2205048926048+&#45;&gt;2205048926048 -->\n",
       "<g id=\"edge3\" class=\"edge\">\n",
       "<title>2205048926048+&#45;&gt;2205048926048</title>\n",
       "<path fill=\"none\" stroke=\"black\" d=\"M1009.03,-72.5C1016.17,-72.5 1024.36,-72.5 1033.07,-72.5\"/>\n",
       "<polygon fill=\"black\" stroke=\"black\" points=\"1032.81,-76 1042.81,-72.5 1032.81,-69 1032.81,-76\"/>\n",
       "</g>\n",
       "<!-- 2205048926096 -->\n",
       "<g id=\"node10\" class=\"node\">\n",
       "<title>2205048926096</title>\n",
       "<polygon fill=\"none\" stroke=\"black\" points=\"1354.5,-54.5 1354.5,-90.5 1538.25,-90.5 1538.25,-54.5 1354.5,-54.5\"/>\n",
       "<text text-anchor=\"middle\" x=\"1365.88\" y=\"-67.7\" font-family=\"Times New Roman,serif\" font-size=\"14.00\">o</text>\n",
       "<polyline fill=\"none\" stroke=\"black\" points=\"1377.25,-55 1377.25,-90.5\"/>\n",
       "<text text-anchor=\"middle\" x=\"1417.12\" y=\"-67.7\" font-family=\"Times New Roman,serif\" font-size=\"14.00\">data 0.7071</text>\n",
       "<polyline fill=\"none\" stroke=\"black\" points=\"1457,-55 1457,-90.5\"/>\n",
       "<text text-anchor=\"middle\" x=\"1497.62\" y=\"-67.7\" font-family=\"Times New Roman,serif\" font-size=\"14.00\">grad 1.0000</text>\n",
       "</g>\n",
       "<!-- 2205048926096tanh&#45;&gt;2205048926096 -->\n",
       "<g id=\"edge4\" class=\"edge\">\n",
       "<title>2205048926096tanh&#45;&gt;2205048926096</title>\n",
       "<path fill=\"none\" stroke=\"black\" d=\"M1318.78,-72.5C1325.92,-72.5 1334.11,-72.5 1342.82,-72.5\"/>\n",
       "<polygon fill=\"black\" stroke=\"black\" points=\"1342.56,-76 1352.56,-72.5 1342.56,-69 1342.56,-76\"/>\n",
       "</g>\n",
       "<!-- 2205048926144 -->\n",
       "<g id=\"node12\" class=\"node\">\n",
       "<title>2205048926144</title>\n",
       "<polygon fill=\"none\" stroke=\"black\" points=\"661.5,-82.5 661.5,-118.5 918.75,-118.5 918.75,-82.5 661.5,-82.5\"/>\n",
       "<text text-anchor=\"middle\" x=\"707.38\" y=\"-95.7\" font-family=\"Times New Roman,serif\" font-size=\"14.00\">x1w1 + x2w2</text>\n",
       "<polyline fill=\"none\" stroke=\"black\" points=\"753.25,-83 753.25,-118.5\"/>\n",
       "<text text-anchor=\"middle\" x=\"795.38\" y=\"-95.7\" font-family=\"Times New Roman,serif\" font-size=\"14.00\">data &#45;6.0000</text>\n",
       "<polyline fill=\"none\" stroke=\"black\" points=\"837.5,-83 837.5,-118.5\"/>\n",
       "<text text-anchor=\"middle\" x=\"878.12\" y=\"-95.7\" font-family=\"Times New Roman,serif\" font-size=\"14.00\">grad 0.5000</text>\n",
       "</g>\n",
       "<!-- 2205048926144&#45;&gt;2205048926048+ -->\n",
       "<g id=\"edge9\" class=\"edge\">\n",
       "<title>2205048926144&#45;&gt;2205048926048+</title>\n",
       "<path fill=\"none\" stroke=\"black\" d=\"M916.29,-82.02C926.15,-80.56 935.53,-79.18 943.92,-77.94\"/>\n",
       "<polygon fill=\"black\" stroke=\"black\" points=\"944.19,-81.44 953.58,-76.51 943.17,-74.51 944.19,-81.44\"/>\n",
       "</g>\n",
       "<!-- 2205048926144+&#45;&gt;2205048926144 -->\n",
       "<g id=\"edge5\" class=\"edge\">\n",
       "<title>2205048926144+&#45;&gt;2205048926144</title>\n",
       "<path fill=\"none\" stroke=\"black\" d=\"M625.87,-100.5C632.88,-100.5 640.96,-100.5 649.7,-100.5\"/>\n",
       "<polygon fill=\"black\" stroke=\"black\" points=\"649.57,-104 659.57,-100.5 649.57,-97 649.57,-104\"/>\n",
       "</g>\n",
       "<!-- 2205048925136 -->\n",
       "<g id=\"node14\" class=\"node\">\n",
       "<title>2205048925136</title>\n",
       "<polygon fill=\"none\" stroke=\"black\" points=\"2.25,-110.5 2.25,-146.5 195.75,-146.5 195.75,-110.5 2.25,-110.5\"/>\n",
       "<text text-anchor=\"middle\" x=\"18.5\" y=\"-123.7\" font-family=\"Times New Roman,serif\" font-size=\"14.00\">w2</text>\n",
       "<polyline fill=\"none\" stroke=\"black\" points=\"34.75,-111 34.75,-146.5\"/>\n",
       "<text text-anchor=\"middle\" x=\"74.62\" y=\"-123.7\" font-family=\"Times New Roman,serif\" font-size=\"14.00\">data 6.7000</text>\n",
       "<polyline fill=\"none\" stroke=\"black\" points=\"114.5,-111 114.5,-146.5\"/>\n",
       "<text text-anchor=\"middle\" x=\"155.12\" y=\"-123.7\" font-family=\"Times New Roman,serif\" font-size=\"14.00\">grad 0.0000</text>\n",
       "</g>\n",
       "<!-- 2205048925136&#45;&gt;2205048926000* -->\n",
       "<g id=\"edge10\" class=\"edge\">\n",
       "<title>2205048925136&#45;&gt;2205048926000*</title>\n",
       "<path fill=\"none\" stroke=\"black\" d=\"M195.84,-128.5C205.14,-128.5 214.15,-128.5 222.32,-128.5\"/>\n",
       "<polygon fill=\"black\" stroke=\"black\" points=\"222.13,-132 232.13,-128.5 222.13,-125 222.13,-132\"/>\n",
       "</g>\n",
       "<!-- 2205048923120 -->\n",
       "<g id=\"node15\" class=\"node\">\n",
       "<title>2205048923120</title>\n",
       "<polygon fill=\"none\" stroke=\"black\" points=\"698.25,-27.5 698.25,-63.5 882,-63.5 882,-27.5 698.25,-27.5\"/>\n",
       "<text text-anchor=\"middle\" x=\"709.62\" y=\"-40.7\" font-family=\"Times New Roman,serif\" font-size=\"14.00\">b</text>\n",
       "<polyline fill=\"none\" stroke=\"black\" points=\"721,-28 721,-63.5\"/>\n",
       "<text text-anchor=\"middle\" x=\"760.88\" y=\"-40.7\" font-family=\"Times New Roman,serif\" font-size=\"14.00\">data 6.8814</text>\n",
       "<polyline fill=\"none\" stroke=\"black\" points=\"800.75,-28 800.75,-63.5\"/>\n",
       "<text text-anchor=\"middle\" x=\"841.38\" y=\"-40.7\" font-family=\"Times New Roman,serif\" font-size=\"14.00\">grad 0.5000</text>\n",
       "</g>\n",
       "<!-- 2205048923120&#45;&gt;2205048926048+ -->\n",
       "<g id=\"edge11\" class=\"edge\">\n",
       "<title>2205048923120&#45;&gt;2205048926048+</title>\n",
       "<path fill=\"none\" stroke=\"black\" d=\"M882.33,-58.49C904.17,-61.6 926.27,-64.74 943.98,-67.26\"/>\n",
       "<polygon fill=\"black\" stroke=\"black\" points=\"943.32,-70.71 953.71,-68.65 944.3,-63.78 943.32,-70.71\"/>\n",
       "</g>\n",
       "</g>\n",
       "</svg>\n"
      ],
      "text/plain": [
       "<graphviz.graphs.Digraph at 0x201671d1c70>"
      ]
     },
     "execution_count": 31,
     "metadata": {},
     "output_type": "execute_result"
    }
   ],
   "source": [
    "draw_dot(o)"
   ]
  },
  {
   "cell_type": "code",
   "execution_count": null,
   "id": "ac2c0718-0630-4a89-a433-08d3e9c6b269",
   "metadata": {},
   "outputs": [],
   "source": []
  },
  {
   "cell_type": "code",
   "execution_count": 32,
   "id": "79006ae6-e3cf-4478-8dff-bc9b3833759e",
   "metadata": {},
   "outputs": [],
   "source": [
    "class Value:\n",
    "\n",
    "    def __init__(self,data, _children = (), _op = '', label = ''): #basically children is use to store the two Value objects on which we perform operation\n",
    "        self.data = data\n",
    "        self._prev = set(_children)\n",
    "        self._op = _op\n",
    "        self.label = label\n",
    "        self.grad = 0\n",
    "        self._backward = lambda : None\n",
    "\n",
    "    def __repr__(self):\n",
    "        return (f\"Value(data={self.data}\")\n",
    "\n",
    "    \n",
    "\n",
    "    def __add__(self, other):\n",
    "        out = Value(self.data + other.data, (self, other), '+') # creating a value object\n",
    "        \n",
    "\n",
    "        def _backward():\n",
    "            self.grad = 1 * out.grad \n",
    "            other.grad = 1 * out.grad\n",
    "        out._backward = _backward\n",
    "        return out\n",
    "\n",
    "    def __mul__(self, other):\n",
    "        out = Value(self.data * other.data, (self,other), '*')\n",
    "        \n",
    "        \n",
    "        def _backward():\n",
    "            self.grad = other.data * out.grad \n",
    "            other.grad = self.data * out.grad\n",
    "        out._backward = _backward\n",
    "        return out\n",
    "    \n",
    "\n",
    "    def tanh(self) :\n",
    "        n = self.data \n",
    "        t = (math.exp(2*n) - 1)/(math.exp(2*n ) + 1)\n",
    "        out = Value(t , (self,) , 'tanh',label = 'tan h')\n",
    "       \n",
    "        def _backward():\n",
    "            self.grad = (1 - t**2) * out.grad\n",
    "        out._backward = _backward\n",
    "        return out\n",
    "\n",
    "        topo = []\n",
    "        visited = set()\n",
    "        def build_topo(v):\n",
    "            if v  not in visited :\n",
    "                visited.add(v)\n",
    "        for child in v._prev:\n",
    "           build_topo(child)\n",
    "        topo.append(v)\n",
    "    \n",
    "        build_topo(o)\n",
    "    \n",
    "\n"
   ]
  },
  {
   "cell_type": "code",
   "execution_count": 33,
   "id": "20747ba4-5e11-419e-b569-66c7bf5e2b48",
   "metadata": {},
   "outputs": [],
   "source": [
    "# inputs x1 , x2\n",
    "x1 = Value(2, label = 'x1')\n",
    "x2 = Value(0, label = 'x2')\n",
    "# weights of input\n",
    "w1 = Value(-3, label = 'w1')\n",
    "w2 = Value(6.7, label = 'w2')\n",
    "# bias of neuron\n",
    "\n",
    "b = Value(6.8813735870195432, label = 'b')\n",
    "x1w1 = x1 * w1; x1w1.label = 'x1w1'\n",
    "x2w2 = x2 * w2; x2w2.label = 'x2w2'\n",
    "x1w1x2w2 = x1w1 + x2w2 ; x1w1x2w2.label = 'x1w1 + x2w2'\n",
    "\n",
    "n = x1w1x2w2 + b; n.label = 'n'\n",
    "o = n.tanh(); o.label = 'o'"
   ]
  },
  {
   "cell_type": "code",
   "execution_count": 34,
   "id": "958fb98c-37cf-4fd0-8550-c03099d5335a",
   "metadata": {},
   "outputs": [
    {
     "data": {
      "image/svg+xml": [
       "<?xml version=\"1.0\" encoding=\"UTF-8\" standalone=\"no\"?>\n",
       "<!DOCTYPE svg PUBLIC \"-//W3C//DTD SVG 1.1//EN\"\n",
       " \"http://www.w3.org/Graphics/SVG/1.1/DTD/svg11.dtd\">\n",
       "<!-- Generated by graphviz version 12.2.1 (20241206.2353)\n",
       " -->\n",
       "<!-- Pages: 1 -->\n",
       "<svg width=\"1546pt\" height=\"210pt\"\n",
       " viewBox=\"0.00 0.00 1546.25 210.00\" xmlns=\"http://www.w3.org/2000/svg\" xmlns:xlink=\"http://www.w3.org/1999/xlink\">\n",
       "<g id=\"graph0\" class=\"graph\" transform=\"scale(1 1) rotate(0) translate(4 206)\">\n",
       "<polygon fill=\"white\" stroke=\"none\" points=\"-4,4 -4,-206 1542.25,-206 1542.25,4 -4,4\"/>\n",
       "<!-- 2205048929792 -->\n",
       "<g id=\"node1\" class=\"node\">\n",
       "<title>2205048929792</title>\n",
       "<polygon fill=\"none\" stroke=\"black\" points=\"3.75,-165.5 3.75,-201.5 194.25,-201.5 194.25,-165.5 3.75,-165.5\"/>\n",
       "<text text-anchor=\"middle\" x=\"18.5\" y=\"-178.7\" font-family=\"Times New Roman,serif\" font-size=\"14.00\">x2</text>\n",
       "<polyline fill=\"none\" stroke=\"black\" points=\"33.25,-166 33.25,-201.5\"/>\n",
       "<text text-anchor=\"middle\" x=\"73.12\" y=\"-178.7\" font-family=\"Times New Roman,serif\" font-size=\"14.00\">data 0.0000</text>\n",
       "<polyline fill=\"none\" stroke=\"black\" points=\"113,-166 113,-201.5\"/>\n",
       "<text text-anchor=\"middle\" x=\"153.62\" y=\"-178.7\" font-family=\"Times New Roman,serif\" font-size=\"14.00\">grad 0.0000</text>\n",
       "</g>\n",
       "<!-- 2205049049920* -->\n",
       "<g id=\"node9\" class=\"node\">\n",
       "<title>2205049049920*</title>\n",
       "<ellipse fill=\"none\" stroke=\"black\" cx=\"261\" cy=\"-128.5\" rx=\"27\" ry=\"18\"/>\n",
       "<text text-anchor=\"middle\" x=\"261\" y=\"-123.45\" font-family=\"Times New Roman,serif\" font-size=\"14.00\">*</text>\n",
       "</g>\n",
       "<!-- 2205048929792&#45;&gt;2205049049920* -->\n",
       "<g id=\"edge6\" class=\"edge\">\n",
       "<title>2205048929792&#45;&gt;2205049049920*</title>\n",
       "<path fill=\"none\" stroke=\"black\" d=\"M172.12,-165.01C180.9,-162.35 189.7,-159.5 198,-156.5 208.09,-152.86 218.82,-148.27 228.47,-143.88\"/>\n",
       "<polygon fill=\"black\" stroke=\"black\" points=\"229.86,-147.09 237.45,-139.69 226.9,-140.75 229.86,-147.09\"/>\n",
       "</g>\n",
       "<!-- 2205049047664 -->\n",
       "<g id=\"node2\" class=\"node\">\n",
       "<title>2205049047664</title>\n",
       "<polygon fill=\"none\" stroke=\"black\" points=\"324,-55.5 324,-91.5 535.5,-91.5 535.5,-55.5 324,-55.5\"/>\n",
       "<text text-anchor=\"middle\" x=\"347\" y=\"-68.7\" font-family=\"Times New Roman,serif\" font-size=\"14.00\">x1w1</text>\n",
       "<polyline fill=\"none\" stroke=\"black\" points=\"370,-56 370,-91.5\"/>\n",
       "<text text-anchor=\"middle\" x=\"412.12\" y=\"-68.7\" font-family=\"Times New Roman,serif\" font-size=\"14.00\">data &#45;6.0000</text>\n",
       "<polyline fill=\"none\" stroke=\"black\" points=\"454.25,-56 454.25,-91.5\"/>\n",
       "<text text-anchor=\"middle\" x=\"494.88\" y=\"-68.7\" font-family=\"Times New Roman,serif\" font-size=\"14.00\">grad 0.0000</text>\n",
       "</g>\n",
       "<!-- 2205049050832+ -->\n",
       "<g id=\"node7\" class=\"node\">\n",
       "<title>2205049050832+</title>\n",
       "<ellipse fill=\"none\" stroke=\"black\" cx=\"598.5\" cy=\"-100.5\" rx=\"27\" ry=\"18\"/>\n",
       "<text text-anchor=\"middle\" x=\"598.5\" y=\"-95.45\" font-family=\"Times New Roman,serif\" font-size=\"14.00\">+</text>\n",
       "</g>\n",
       "<!-- 2205049047664&#45;&gt;2205049050832+ -->\n",
       "<g id=\"edge10\" class=\"edge\">\n",
       "<title>2205049047664&#45;&gt;2205049050832+</title>\n",
       "<path fill=\"none\" stroke=\"black\" d=\"M535.88,-90.52C544.59,-91.93 552.96,-93.29 560.56,-94.52\"/>\n",
       "<polygon fill=\"black\" stroke=\"black\" points=\"559.91,-97.96 570.34,-96.1 561.03,-91.05 559.91,-97.96\"/>\n",
       "</g>\n",
       "<!-- 2205049047664* -->\n",
       "<g id=\"node3\" class=\"node\">\n",
       "<title>2205049047664*</title>\n",
       "<ellipse fill=\"none\" stroke=\"black\" cx=\"261\" cy=\"-73.5\" rx=\"27\" ry=\"18\"/>\n",
       "<text text-anchor=\"middle\" x=\"261\" y=\"-68.45\" font-family=\"Times New Roman,serif\" font-size=\"14.00\">*</text>\n",
       "</g>\n",
       "<!-- 2205049047664*&#45;&gt;2205049047664 -->\n",
       "<g id=\"edge1\" class=\"edge\">\n",
       "<title>2205049047664*&#45;&gt;2205049047664</title>\n",
       "<path fill=\"none\" stroke=\"black\" d=\"M288.42,-73.5C295.52,-73.5 303.68,-73.5 312.42,-73.5\"/>\n",
       "<polygon fill=\"black\" stroke=\"black\" points=\"312.24,-77 322.24,-73.5 312.24,-70 312.24,-77\"/>\n",
       "</g>\n",
       "<!-- 2205049050784 -->\n",
       "<g id=\"node4\" class=\"node\">\n",
       "<title>2205049050784</title>\n",
       "<polygon fill=\"none\" stroke=\"black\" points=\"1354.5,-54.5 1354.5,-90.5 1538.25,-90.5 1538.25,-54.5 1354.5,-54.5\"/>\n",
       "<text text-anchor=\"middle\" x=\"1365.88\" y=\"-67.7\" font-family=\"Times New Roman,serif\" font-size=\"14.00\">o</text>\n",
       "<polyline fill=\"none\" stroke=\"black\" points=\"1377.25,-55 1377.25,-90.5\"/>\n",
       "<text text-anchor=\"middle\" x=\"1417.12\" y=\"-67.7\" font-family=\"Times New Roman,serif\" font-size=\"14.00\">data 0.7071</text>\n",
       "<polyline fill=\"none\" stroke=\"black\" points=\"1457,-55 1457,-90.5\"/>\n",
       "<text text-anchor=\"middle\" x=\"1497.62\" y=\"-67.7\" font-family=\"Times New Roman,serif\" font-size=\"14.00\">grad 0.0000</text>\n",
       "</g>\n",
       "<!-- 2205049050784tanh -->\n",
       "<g id=\"node5\" class=\"node\">\n",
       "<title>2205049050784tanh</title>\n",
       "<ellipse fill=\"none\" stroke=\"black\" cx=\"1291.5\" cy=\"-72.5\" rx=\"27\" ry=\"18\"/>\n",
       "<text text-anchor=\"middle\" x=\"1291.5\" y=\"-67.45\" font-family=\"Times New Roman,serif\" font-size=\"14.00\">tanh</text>\n",
       "</g>\n",
       "<!-- 2205049050784tanh&#45;&gt;2205049050784 -->\n",
       "<g id=\"edge2\" class=\"edge\">\n",
       "<title>2205049050784tanh&#45;&gt;2205049050784</title>\n",
       "<path fill=\"none\" stroke=\"black\" d=\"M1318.78,-72.5C1325.92,-72.5 1334.11,-72.5 1342.82,-72.5\"/>\n",
       "<polygon fill=\"black\" stroke=\"black\" points=\"1342.56,-76 1352.56,-72.5 1342.56,-69 1342.56,-76\"/>\n",
       "</g>\n",
       "<!-- 2205049050832 -->\n",
       "<g id=\"node6\" class=\"node\">\n",
       "<title>2205049050832</title>\n",
       "<polygon fill=\"none\" stroke=\"black\" points=\"661.5,-82.5 661.5,-118.5 918.75,-118.5 918.75,-82.5 661.5,-82.5\"/>\n",
       "<text text-anchor=\"middle\" x=\"707.38\" y=\"-95.7\" font-family=\"Times New Roman,serif\" font-size=\"14.00\">x1w1 + x2w2</text>\n",
       "<polyline fill=\"none\" stroke=\"black\" points=\"753.25,-83 753.25,-118.5\"/>\n",
       "<text text-anchor=\"middle\" x=\"795.38\" y=\"-95.7\" font-family=\"Times New Roman,serif\" font-size=\"14.00\">data &#45;6.0000</text>\n",
       "<polyline fill=\"none\" stroke=\"black\" points=\"837.5,-83 837.5,-118.5\"/>\n",
       "<text text-anchor=\"middle\" x=\"878.12\" y=\"-95.7\" font-family=\"Times New Roman,serif\" font-size=\"14.00\">grad 0.0000</text>\n",
       "</g>\n",
       "<!-- 2205049050064+ -->\n",
       "<g id=\"node14\" class=\"node\">\n",
       "<title>2205049050064+</title>\n",
       "<ellipse fill=\"none\" stroke=\"black\" cx=\"981.75\" cy=\"-72.5\" rx=\"27\" ry=\"18\"/>\n",
       "<text text-anchor=\"middle\" x=\"981.75\" y=\"-67.45\" font-family=\"Times New Roman,serif\" font-size=\"14.00\">+</text>\n",
       "</g>\n",
       "<!-- 2205049050832&#45;&gt;2205049050064+ -->\n",
       "<g id=\"edge12\" class=\"edge\">\n",
       "<title>2205049050832&#45;&gt;2205049050064+</title>\n",
       "<path fill=\"none\" stroke=\"black\" d=\"M916.29,-82.02C926.15,-80.56 935.53,-79.18 943.92,-77.94\"/>\n",
       "<polygon fill=\"black\" stroke=\"black\" points=\"944.19,-81.44 953.58,-76.51 943.17,-74.51 944.19,-81.44\"/>\n",
       "</g>\n",
       "<!-- 2205049050832+&#45;&gt;2205049050832 -->\n",
       "<g id=\"edge3\" class=\"edge\">\n",
       "<title>2205049050832+&#45;&gt;2205049050832</title>\n",
       "<path fill=\"none\" stroke=\"black\" d=\"M625.87,-100.5C632.88,-100.5 640.96,-100.5 649.7,-100.5\"/>\n",
       "<polygon fill=\"black\" stroke=\"black\" points=\"649.57,-104 659.57,-100.5 649.57,-97 649.57,-104\"/>\n",
       "</g>\n",
       "<!-- 2205049049920 -->\n",
       "<g id=\"node8\" class=\"node\">\n",
       "<title>2205049049920</title>\n",
       "<polygon fill=\"none\" stroke=\"black\" points=\"326.25,-110.5 326.25,-146.5 533.25,-146.5 533.25,-110.5 326.25,-110.5\"/>\n",
       "<text text-anchor=\"middle\" x=\"349.25\" y=\"-123.7\" font-family=\"Times New Roman,serif\" font-size=\"14.00\">x2w2</text>\n",
       "<polyline fill=\"none\" stroke=\"black\" points=\"372.25,-111 372.25,-146.5\"/>\n",
       "<text text-anchor=\"middle\" x=\"412.12\" y=\"-123.7\" font-family=\"Times New Roman,serif\" font-size=\"14.00\">data 0.0000</text>\n",
       "<polyline fill=\"none\" stroke=\"black\" points=\"452,-111 452,-146.5\"/>\n",
       "<text text-anchor=\"middle\" x=\"492.62\" y=\"-123.7\" font-family=\"Times New Roman,serif\" font-size=\"14.00\">grad 0.0000</text>\n",
       "</g>\n",
       "<!-- 2205049049920&#45;&gt;2205049050832+ -->\n",
       "<g id=\"edge9\" class=\"edge\">\n",
       "<title>2205049049920&#45;&gt;2205049050832+</title>\n",
       "<path fill=\"none\" stroke=\"black\" d=\"M533.51,-111.25C543.16,-109.62 552.45,-108.06 560.82,-106.66\"/>\n",
       "<polygon fill=\"black\" stroke=\"black\" points=\"561.2,-110.15 570.48,-105.04 560.04,-103.24 561.2,-110.15\"/>\n",
       "</g>\n",
       "<!-- 2205049049920*&#45;&gt;2205049049920 -->\n",
       "<g id=\"edge4\" class=\"edge\">\n",
       "<title>2205049049920*&#45;&gt;2205049049920</title>\n",
       "<path fill=\"none\" stroke=\"black\" d=\"M288.42,-128.5C296.08,-128.5 304.96,-128.5 314.47,-128.5\"/>\n",
       "<polygon fill=\"black\" stroke=\"black\" points=\"314.37,-132 324.37,-128.5 314.37,-125 314.37,-132\"/>\n",
       "</g>\n",
       "<!-- 2205048068944 -->\n",
       "<g id=\"node10\" class=\"node\">\n",
       "<title>2205048068944</title>\n",
       "<polygon fill=\"none\" stroke=\"black\" points=\"698.25,-27.5 698.25,-63.5 882,-63.5 882,-27.5 698.25,-27.5\"/>\n",
       "<text text-anchor=\"middle\" x=\"709.62\" y=\"-40.7\" font-family=\"Times New Roman,serif\" font-size=\"14.00\">b</text>\n",
       "<polyline fill=\"none\" stroke=\"black\" points=\"721,-28 721,-63.5\"/>\n",
       "<text text-anchor=\"middle\" x=\"760.88\" y=\"-40.7\" font-family=\"Times New Roman,serif\" font-size=\"14.00\">data 6.8814</text>\n",
       "<polyline fill=\"none\" stroke=\"black\" points=\"800.75,-28 800.75,-63.5\"/>\n",
       "<text text-anchor=\"middle\" x=\"841.38\" y=\"-40.7\" font-family=\"Times New Roman,serif\" font-size=\"14.00\">grad 0.0000</text>\n",
       "</g>\n",
       "<!-- 2205048068944&#45;&gt;2205049050064+ -->\n",
       "<g id=\"edge13\" class=\"edge\">\n",
       "<title>2205048068944&#45;&gt;2205049050064+</title>\n",
       "<path fill=\"none\" stroke=\"black\" d=\"M882.33,-58.49C904.17,-61.6 926.27,-64.74 943.98,-67.26\"/>\n",
       "<polygon fill=\"black\" stroke=\"black\" points=\"943.32,-70.71 953.71,-68.65 944.3,-63.78 943.32,-70.71\"/>\n",
       "</g>\n",
       "<!-- 2205048929120 -->\n",
       "<g id=\"node11\" class=\"node\">\n",
       "<title>2205048929120</title>\n",
       "<polygon fill=\"none\" stroke=\"black\" points=\"0,-55.5 0,-91.5 198,-91.5 198,-55.5 0,-55.5\"/>\n",
       "<text text-anchor=\"middle\" x=\"16.25\" y=\"-68.7\" font-family=\"Times New Roman,serif\" font-size=\"14.00\">w1</text>\n",
       "<polyline fill=\"none\" stroke=\"black\" points=\"32.5,-56 32.5,-91.5\"/>\n",
       "<text text-anchor=\"middle\" x=\"74.62\" y=\"-68.7\" font-family=\"Times New Roman,serif\" font-size=\"14.00\">data &#45;3.0000</text>\n",
       "<polyline fill=\"none\" stroke=\"black\" points=\"116.75,-56 116.75,-91.5\"/>\n",
       "<text text-anchor=\"middle\" x=\"157.38\" y=\"-68.7\" font-family=\"Times New Roman,serif\" font-size=\"14.00\">grad 0.0000</text>\n",
       "</g>\n",
       "<!-- 2205048929120&#45;&gt;2205049047664* -->\n",
       "<g id=\"edge8\" class=\"edge\">\n",
       "<title>2205048929120&#45;&gt;2205049047664*</title>\n",
       "<path fill=\"none\" stroke=\"black\" d=\"M198.14,-73.5C206.61,-73.5 214.8,-73.5 222.29,-73.5\"/>\n",
       "<polygon fill=\"black\" stroke=\"black\" points=\"222.29,-77 232.29,-73.5 222.29,-70 222.29,-77\"/>\n",
       "</g>\n",
       "<!-- 2205048917936 -->\n",
       "<g id=\"node12\" class=\"node\">\n",
       "<title>2205048917936</title>\n",
       "<polygon fill=\"none\" stroke=\"black\" points=\"2.25,-110.5 2.25,-146.5 195.75,-146.5 195.75,-110.5 2.25,-110.5\"/>\n",
       "<text text-anchor=\"middle\" x=\"18.5\" y=\"-123.7\" font-family=\"Times New Roman,serif\" font-size=\"14.00\">w2</text>\n",
       "<polyline fill=\"none\" stroke=\"black\" points=\"34.75,-111 34.75,-146.5\"/>\n",
       "<text text-anchor=\"middle\" x=\"74.62\" y=\"-123.7\" font-family=\"Times New Roman,serif\" font-size=\"14.00\">data 6.7000</text>\n",
       "<polyline fill=\"none\" stroke=\"black\" points=\"114.5,-111 114.5,-146.5\"/>\n",
       "<text text-anchor=\"middle\" x=\"155.12\" y=\"-123.7\" font-family=\"Times New Roman,serif\" font-size=\"14.00\">grad 0.0000</text>\n",
       "</g>\n",
       "<!-- 2205048917936&#45;&gt;2205049049920* -->\n",
       "<g id=\"edge7\" class=\"edge\">\n",
       "<title>2205048917936&#45;&gt;2205049049920*</title>\n",
       "<path fill=\"none\" stroke=\"black\" d=\"M195.84,-128.5C205.14,-128.5 214.15,-128.5 222.32,-128.5\"/>\n",
       "<polygon fill=\"black\" stroke=\"black\" points=\"222.13,-132 232.13,-128.5 222.13,-125 222.13,-132\"/>\n",
       "</g>\n",
       "<!-- 2205049050064 -->\n",
       "<g id=\"node13\" class=\"node\">\n",
       "<title>2205049050064</title>\n",
       "<polygon fill=\"none\" stroke=\"black\" points=\"1044.75,-54.5 1044.75,-90.5 1228.5,-90.5 1228.5,-54.5 1044.75,-54.5\"/>\n",
       "<text text-anchor=\"middle\" x=\"1056.12\" y=\"-67.7\" font-family=\"Times New Roman,serif\" font-size=\"14.00\">n</text>\n",
       "<polyline fill=\"none\" stroke=\"black\" points=\"1067.5,-55 1067.5,-90.5\"/>\n",
       "<text text-anchor=\"middle\" x=\"1107.38\" y=\"-67.7\" font-family=\"Times New Roman,serif\" font-size=\"14.00\">data 0.8814</text>\n",
       "<polyline fill=\"none\" stroke=\"black\" points=\"1147.25,-55 1147.25,-90.5\"/>\n",
       "<text text-anchor=\"middle\" x=\"1187.88\" y=\"-67.7\" font-family=\"Times New Roman,serif\" font-size=\"14.00\">grad 0.0000</text>\n",
       "</g>\n",
       "<!-- 2205049050064&#45;&gt;2205049050784tanh -->\n",
       "<g id=\"edge14\" class=\"edge\">\n",
       "<title>2205049050064&#45;&gt;2205049050784tanh</title>\n",
       "<path fill=\"none\" stroke=\"black\" d=\"M1228.76,-72.5C1237.14,-72.5 1245.27,-72.5 1252.73,-72.5\"/>\n",
       "<polygon fill=\"black\" stroke=\"black\" points=\"1252.7,-76 1262.7,-72.5 1252.7,-69 1252.7,-76\"/>\n",
       "</g>\n",
       "<!-- 2205049050064+&#45;&gt;2205049050064 -->\n",
       "<g id=\"edge5\" class=\"edge\">\n",
       "<title>2205049050064+&#45;&gt;2205049050064</title>\n",
       "<path fill=\"none\" stroke=\"black\" d=\"M1009.03,-72.5C1016.17,-72.5 1024.36,-72.5 1033.07,-72.5\"/>\n",
       "<polygon fill=\"black\" stroke=\"black\" points=\"1032.81,-76 1042.81,-72.5 1032.81,-69 1032.81,-76\"/>\n",
       "</g>\n",
       "<!-- 2205048927728 -->\n",
       "<g id=\"node15\" class=\"node\">\n",
       "<title>2205048927728</title>\n",
       "<polygon fill=\"none\" stroke=\"black\" points=\"3.75,-0.5 3.75,-36.5 194.25,-36.5 194.25,-0.5 3.75,-0.5\"/>\n",
       "<text text-anchor=\"middle\" x=\"18.5\" y=\"-13.7\" font-family=\"Times New Roman,serif\" font-size=\"14.00\">x1</text>\n",
       "<polyline fill=\"none\" stroke=\"black\" points=\"33.25,-1 33.25,-36.5\"/>\n",
       "<text text-anchor=\"middle\" x=\"73.12\" y=\"-13.7\" font-family=\"Times New Roman,serif\" font-size=\"14.00\">data 2.0000</text>\n",
       "<polyline fill=\"none\" stroke=\"black\" points=\"113,-1 113,-36.5\"/>\n",
       "<text text-anchor=\"middle\" x=\"153.62\" y=\"-13.7\" font-family=\"Times New Roman,serif\" font-size=\"14.00\">grad 0.0000</text>\n",
       "</g>\n",
       "<!-- 2205048927728&#45;&gt;2205049047664* -->\n",
       "<g id=\"edge11\" class=\"edge\">\n",
       "<title>2205048927728&#45;&gt;2205049047664*</title>\n",
       "<path fill=\"none\" stroke=\"black\" d=\"M172.12,-36.99C180.9,-39.65 189.7,-42.5 198,-45.5 208.09,-49.14 218.82,-53.73 228.47,-58.12\"/>\n",
       "<polygon fill=\"black\" stroke=\"black\" points=\"226.9,-61.25 237.45,-62.31 229.86,-54.91 226.9,-61.25\"/>\n",
       "</g>\n",
       "</g>\n",
       "</svg>\n"
      ],
      "text/plain": [
       "<graphviz.graphs.Digraph at 0x201672193d0>"
      ]
     },
     "execution_count": 34,
     "metadata": {},
     "output_type": "execute_result"
    }
   ],
   "source": [
    "draw_dot(o)"
   ]
  },
  {
   "cell_type": "code",
   "execution_count": 35,
   "id": "a9040f26-a0c9-408c-8dcd-04a323f60857",
   "metadata": {},
   "outputs": [],
   "source": [
    "o.grad  =1 \n"
   ]
  },
  {
   "cell_type": "code",
   "execution_count": 36,
   "id": "b7ea75e7-b6cd-4a19-b717-d850aa05a0e9",
   "metadata": {},
   "outputs": [],
   "source": [
    "o._backward()"
   ]
  },
  {
   "cell_type": "code",
   "execution_count": 37,
   "id": "8a961ee1-830e-4db4-87d3-a415396d5c30",
   "metadata": {},
   "outputs": [],
   "source": [
    "n._backward()"
   ]
  },
  {
   "cell_type": "markdown",
   "id": "0d21630d-a0d7-4493-ac98-45619a7e9adb",
   "metadata": {},
   "source": [
    "## TOPOLOGICAL SORT"
   ]
  },
  {
   "cell_type": "code",
   "execution_count": 38,
   "id": "cab1561b-0bd1-4db2-8e76-e1e20561640a",
   "metadata": {},
   "outputs": [
    {
     "data": {
      "text/plain": [
       "[Value(data=0,\n",
       " Value(data=6.7,\n",
       " Value(data=0.0,\n",
       " Value(data=-3,\n",
       " Value(data=2,\n",
       " Value(data=-6,\n",
       " Value(data=-6.0,\n",
       " Value(data=6.881373587019543,\n",
       " Value(data=0.8813735870195432,\n",
       " Value(data=0.7071067811865476]"
      ]
     },
     "execution_count": 38,
     "metadata": {},
     "output_type": "execute_result"
    }
   ],
   "source": [
    "topo = []\n",
    "visited = set()\n",
    "def build_topo(v):\n",
    "    if v  not in visited :\n",
    "        visited.add(v)\n",
    "    for child in v._prev:\n",
    "       build_topo(child)\n",
    "    topo.append(v)\n",
    "\n",
    "build_topo(o)\n",
    "topo\n",
    "\n",
    "\n",
    "    "
   ]
  },
  {
   "cell_type": "code",
   "execution_count": 39,
   "id": "b459631e-8fe0-4342-8736-2061a6aed457",
   "metadata": {},
   "outputs": [],
   "source": [
    "o.grad = 1\n",
    "topo = []\n",
    "\n",
    "visited = set()\n",
    "def build_topo(v):\n",
    "    if v  not in visited :\n",
    "        visited.add(v)\n",
    "    for child in v._prev:\n",
    "       build_topo(child)\n",
    "    topo.append(v)\n",
    "\n",
    "build_topo(o)\n",
    "\n",
    "for node in reversed(topo):\n",
    "    node._backward\n"
   ]
  },
  {
   "cell_type": "code",
   "execution_count": null,
   "id": "e369df96-f613-42d7-bcba-8c7f76c597fc",
   "metadata": {},
   "outputs": [],
   "source": []
  },
  {
   "cell_type": "code",
   "execution_count": 40,
   "id": "ce794f25-2ce6-4138-93e3-de915df49ff6",
   "metadata": {},
   "outputs": [],
   "source": [
    "class Value:\n",
    "\n",
    "    def __init__(self,data, _children = (), _op = '', label = ''): #basically children is use to store the two Value objects on which we perform operation\n",
    "        self.data = data\n",
    "        self._prev = set(_children)\n",
    "        self._op = _op\n",
    "        self.label = label\n",
    "        self.grad = 0\n",
    "        self._backward = lambda : None\n",
    "\n",
    "    def __repr__(self):\n",
    "        return (f\"Value(data={self.data}\")\n",
    "\n",
    "    \n",
    "\n",
    "    def __add__(self, other):\n",
    "        other = other if isinstance(other,Value) else Value(other)\n",
    "        out = Value(self.data + other.data, (self, other), '+') # creating a value object\n",
    "        \n",
    "\n",
    "        def _backward():\n",
    "            self.grad += 1 * out.grad \n",
    "            other.grad += 1 * out.grad\n",
    "        out._backward = _backward\n",
    "        return out\n",
    "\n",
    "    def __rmul__(self, other):\n",
    "        other = other if isinstance(other,Value) else Value(other)\n",
    "        out = Value(self.data * other.data, (self,other), '*')\n",
    "        \n",
    "        \n",
    "        def _backward():\n",
    "            self.grad += other.data * out.grad \n",
    "            other.grad += self.data * out.grad\n",
    "        out._backward = _backward\n",
    "        return out\n",
    "    \n",
    "\n",
    "    def tanh(self) :\n",
    "        n = self.data \n",
    "        t = (math.exp(2*n) - 1)/(math.exp(2*n ) + 1)\n",
    "        out = Value(t , (self,) , 'tanh',label = 'tan h')\n",
    "       \n",
    "        def _backward():\n",
    "            self.grad = (1 - t**2) * out.grad\n",
    "        out._backward = _backward\n",
    "        return out\n",
    "\n",
    "    def backward(self):\n",
    "        topo = []\n",
    "        visited = set()\n",
    "        def build_topo(v):\n",
    "            if v  not in visited :\n",
    "                visited.add(v)\n",
    "            for child in v._prev:\n",
    "               build_topo(child)\n",
    "            topo.append(v)\n",
    "        \n",
    "        build_topo(self)\n",
    "        self.grad = 1\n",
    "        \n",
    "        for node in reversed(topo):\n",
    "            node._backward()\n",
    "\n",
    "        \n",
    "\n",
    "    \n"
   ]
  },
  {
   "cell_type": "code",
   "execution_count": 41,
   "id": "7de4393a-6502-4be3-8cf6-a63a50865c14",
   "metadata": {},
   "outputs": [],
   "source": [
    "import torch"
   ]
  },
  {
   "cell_type": "code",
   "execution_count": 42,
   "id": "e77f0a3b-2720-4e27-b301-cc4b962b0dd3",
   "metadata": {},
   "outputs": [],
   "source": [
    "x1 = torch.Tensor([2]).double()"
   ]
  },
  {
   "cell_type": "code",
   "execution_count": 68,
   "id": "61cd3bb9-6e10-431c-9362-19be55858623",
   "metadata": {},
   "outputs": [],
   "source": [
    "class Value:\n",
    "  \n",
    "  def __init__(self, data, _children=(), _op='', label=''):\n",
    "    self.data = data\n",
    "    self.grad = 0.0\n",
    "    self._backward = lambda: None\n",
    "    self._prev = set(_children)\n",
    "    self._op = _op\n",
    "    self.label = label\n",
    "\n",
    "  def __repr__(self):\n",
    "    return f\"Value(data={self.data})\"\n",
    "  \n",
    "  def __add__(self, other):\n",
    "    other = other if isinstance(other, Value) else Value(other)\n",
    "    out = Value(self.data + other.data, (self, other), '+')\n",
    "    \n",
    "    def _backward():\n",
    "      self.grad += 1.0 * out.grad\n",
    "      other.grad += 1.0 * out.grad\n",
    "    out._backward = _backward\n",
    "    \n",
    "    return out\n",
    "\n",
    "  def __mul__(self, other):\n",
    "    other = other if isinstance(other, Value) else Value(other)\n",
    "    out = Value(self.data * other.data, (self, other), '*')\n",
    "    def _backward():\n",
    "      self.grad += other.data * out.grad\n",
    "      other.grad += self.data * out.grad\n",
    "    out._backward = _backward\n",
    "      \n",
    "    return out\n",
    "  \n",
    "  def __pow__(self, other):\n",
    "    assert isinstance(other, (int, float)), \"only supporting int/float powers for now\"\n",
    "    out = Value(self.data**other, (self,), f'**{other}')\n",
    "\n",
    "    def _backward():\n",
    "        self.grad += other * (self.data ** (other - 1)) * out.grad\n",
    "    out._backward = _backward\n",
    "\n",
    "    return out\n",
    "  \n",
    "  def __rmul__(self, other): # other * self\n",
    "    return self * other\n",
    "\n",
    "  def __truediv__(self, other): # self / other\n",
    "    return self * other**-1\n",
    "\n",
    "  def __neg__(self): # -self\n",
    "    return self * -1\n",
    "  def __sub__(self, other): # self - other\n",
    "    return self + (-other)\n",
    "\n",
    "  def __radd__(self, other): # other + self\n",
    "    return self + other\n",
    "\n",
    "  def tanh(self):\n",
    "    x = self.data\n",
    "    t = (math.exp(2*x) - 1)/(math.exp(2*x) + 1)\n",
    "    out = Value(t, (self, ), 'tanh')\n",
    "    \n",
    "    def _backward():\n",
    "      self.grad += (1 - t**2) * out.grad\n",
    "    out._backward = _backward\n",
    "    \n",
    "    return out\n",
    "  \n",
    "  def exp(self):\n",
    "    x = self.data\n",
    "    out = Value(math.exp(x), (self, ), 'exp')\n",
    "    \n",
    "    def _backward():\n",
    "      self.grad += out.data * out.grad # NOTE: in the video I incorrectly used = instead of +=. Fixed here.\n",
    "    out._backward = _backward\n",
    "    \n",
    "    return out\n",
    "  \n",
    "  \n",
    "  def backward(self):\n",
    "    \n",
    "    topo = []\n",
    "    visited = set()\n",
    "    def build_topo(v):\n",
    "      if v not in visited:\n",
    "        visited.add(v)\n",
    "        for child in v._prev:\n",
    "            build_topo(child)\n",
    "        topo.append(v)\n",
    "    build_topo(self)\n",
    "\n",
    "    self.grad = 1.0\n",
    "    for node in reversed(topo):\n",
    "      node._backward()\n"
   ]
  },
  {
   "cell_type": "code",
   "execution_count": 69,
   "id": "a0384be0-5858-4770-89f4-89fe53e39964",
   "metadata": {},
   "outputs": [],
   "source": [
    "class Neuron:\n",
    "  \n",
    "  def __init__(self, nin):\n",
    "    self.w = [Value(random.uniform(-1,1)) for _ in range(nin)]\n",
    "    self.b = Value(random.uniform(-1,1))\n",
    "  \n",
    "  def __call__(self, x):\n",
    "    # w * x + b\n",
    "    act = sum((wi*xi for wi, xi in zip(self.w, x)), self.b)\n",
    "    out = act.tanh()\n",
    "    return out\n",
    "  \n",
    "  def parameters(self):\n",
    "    return self.w + [self.b]\n",
    "\n",
    "class Layer:\n",
    "  \n",
    "  def __init__(self, nin, nout):\n",
    "    self.neurons = [Neuron(nin) for _ in range(nout)]\n",
    "  \n",
    "  def __call__(self, x):\n",
    "    outs = [n(x) for n in self.neurons]\n",
    "    return outs[0] if len(outs) == 1 else outs\n",
    "  \n",
    "  def parameters(self):\n",
    "    return [p for neuron in self.neurons for p in neuron.parameters()]\n",
    "\n",
    "class MLP:\n",
    "  \n",
    "  def __init__(self, nin, nouts):\n",
    "    sz = [nin] + nouts\n",
    "    self.layers = [Layer(sz[i], sz[i+1]) for i in range(len(nouts))]\n",
    "  \n",
    "  def __call__(self, x):\n",
    "    for layer in self.layers:\n",
    "      x = layer(x)\n",
    "    return x\n",
    "  \n",
    "  def parameters(self):\n",
    "    return [p for layer in self.layers for p in layer.parameters()]\n"
   ]
  },
  {
   "cell_type": "code",
   "execution_count": 71,
   "id": "a25e11d3-c843-487b-bb32-bdf777299a49",
   "metadata": {},
   "outputs": [
    {
     "data": {
      "text/plain": [
       "[Value(data=0.9038279602715684),\n",
       " Value(data=0.7818074302593458),\n",
       " Value(data=0.9051698295515688),\n",
       " Value(data=0.8708027377582217)]"
      ]
     },
     "execution_count": 71,
     "metadata": {},
     "output_type": "execute_result"
    }
   ],
   "source": [
    "xs = [ [2 , 3, -1] ,\n",
    "      [3 , -1 , -5],\n",
    "      [0.5 , 1.0, 1.0],\n",
    "      [1 , 1, -1]]\n",
    "ys = [ 1 , -1 , -1 , 1]\n",
    "n = MLP(3, [4, 4, 1])\n",
    "ypred = [n(x) for x in xs]\n",
    "ypred"
   ]
  },
  {
   "cell_type": "code",
   "execution_count": 73,
   "id": "0a09d293-7193-493a-8b4c-03372b32d574",
   "metadata": {},
   "outputs": [
    {
     "name": "stdout",
     "output_type": "stream",
     "text": [
      "0 0.03583775599438804\n",
      "1 0.03365572691815427\n",
      "2 0.031710591990783216\n",
      "3 0.02996655966661474\n",
      "4 0.028394629373358883\n",
      "5 0.026971060956269187\n",
      "6 0.02567624029195748\n",
      "7 0.02449382576765372\n",
      "8 0.023410097579883764\n",
      "9 0.02241345578619023\n",
      "10 0.02149402895144959\n",
      "11 0.020643366028527784\n",
      "12 0.01985419158080512\n",
      "13 0.019120209701658272\n",
      "14 0.01843594572568761\n",
      "15 0.017796617525617214\n",
      "16 0.01719803015963877\n",
      "17 0.016636489088493713\n",
      "18 0.016108728265766793\n",
      "19 0.015611850220506592\n"
     ]
    }
   ],
   "source": [
    "for k in range(20):\n",
    "  \n",
    "  # forward pass\n",
    "  ypred = [n(x) for x in xs]\n",
    "  loss = sum((yout - ygt)**2 for ygt, yout in zip(ys, ypred))\n",
    "  \n",
    "  # backward pass\n",
    "  for p in n.parameters():\n",
    "    p.grad = 0.0\n",
    "  loss.backward()\n",
    "  \n",
    "  # update\n",
    "  for p in n.parameters():\n",
    "    p.data += -0.1 * p.grad\n",
    "  \n",
    "  print(k, loss.data)\n",
    "  "
   ]
  },
  {
   "cell_type": "code",
   "execution_count": null,
   "id": "b145f1f3-bc5c-46d7-9e78-1e5f8585b427",
   "metadata": {},
   "outputs": [],
   "source": []
  },
  {
   "cell_type": "code",
   "execution_count": null,
   "id": "154e26ba-d7c7-4b00-96cc-12b823ca2aeb",
   "metadata": {},
   "outputs": [],
   "source": []
  }
 ],
 "metadata": {
  "kernelspec": {
   "display_name": "Python 3 (ipykernel)",
   "language": "python",
   "name": "python3"
  },
  "language_info": {
   "codemirror_mode": {
    "name": "ipython",
    "version": 3
   },
   "file_extension": ".py",
   "mimetype": "text/x-python",
   "name": "python",
   "nbconvert_exporter": "python",
   "pygments_lexer": "ipython3",
   "version": "3.12.3"
  }
 },
 "nbformat": 4,
 "nbformat_minor": 5
}
